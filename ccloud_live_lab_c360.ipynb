{
  "nbformat": 4,
  "nbformat_minor": 5,
  "metadata": {
    "kernelspec": {
      "display_name": "Python 3",
      "language": "python",
      "name": "python3"
    },
    "language_info": {
      "codemirror_mode": {
        "name": "ipython",
        "version": 3
      },
      "file_extension": ".py",
      "mimetype": "text/x-python",
      "name": "python",
      "nbconvert_exporter": "python",
      "pygments_lexer": "ipython3",
      "version": "3.8.8"
    },
    "colab": {
      "provenance": [],
      "collapsed_sections": [
        "EhDED_YnCLdI",
        "gmZSdC3-RRBT",
        "5PtbQAvLRUYJ",
        "Da0XEK7b5Gpn",
        "l638pNS9Dt9f",
        "moderate-annual",
        "brief-monkey",
        "ad703tZEEpOp",
        "1TgSN8bBEwEp",
        "corresponding-savings",
        "DV5t3SBnf_W-",
        "et0Oth6k17NY",
        "minute-university",
        "-Qp91CV72Gqr",
        "fuCUGJcPaIci",
        "32D94Z3mFAs7",
        "0eVQRbM_FJ1U",
        "rl2GmlRHdk7a",
        "puLJfA4AFftk",
        "xz7GIUKkFtP9",
        "8sKEci77Fwn0",
        "hVX2KujEps0Q",
        "_qmTNhYZQXQC",
        "FnelGfgHutOt",
        "7O45crJ0x0NN",
        "QvNLkLZfaMUP",
        "xFqFruTs_Cmg",
        "3ouK-BCPY0cB",
        "TxRzItn8X_Vr",
        "inclusive-minority"
      ],
      "include_colab_link": true
    }
  },
  "cells": [
    {
      "cell_type": "markdown",
      "metadata": {
        "id": "view-in-github",
        "colab_type": "text"
      },
      "source": [
        "<a href=\"https://colab.research.google.com/github/nav-nandan/ccloud-live-lab/blob/master/ccloud_live_lab_c360.ipynb\" target=\"_parent\"><img src=\"https://colab.research.google.com/assets/colab-badge.svg\" alt=\"Open In Colab\"/></a>"
      ]
    },
    {
      "cell_type": "markdown",
      "source": [
        "# Welcome to Confluent Cloud Live Lab\n",
        "\n",
        "## Real-Time Data Pipelines Made Simple\n",
        "\n",
        "\n",
        "---\n",
        "\n",
        "## What we'll be building today"
      ],
      "metadata": {
        "id": "EhDED_YnCLdI"
      },
      "id": "EhDED_YnCLdI"
    },
    {
      "cell_type": "markdown",
      "source": [
        "![](https://drive.google.com/uc?export=view&id=1yU5xJtihkO4jLahc4xm8Fto9z6mdE7S7)\n",
        "\n",
        "![](https://drive.google.com/uc?export=view&id=1nS_03FqTBbockpVy1ALFPehFXVAvRGe3)"
      ],
      "metadata": {
        "id": "yuFJmiWpBvZF"
      },
      "id": "yuFJmiWpBvZF"
    },
    {
      "cell_type": "markdown",
      "source": [
        "# Sign Up on Confluent Cloud if you haven't already"
      ],
      "metadata": {
        "id": "gmZSdC3-RRBT"
      },
      "id": "gmZSdC3-RRBT"
    },
    {
      "cell_type": "markdown",
      "source": [
        "## Click to Sign Up\n",
        "\n",
        "### https://confluent.cloud/signup"
      ],
      "metadata": {
        "id": "5PtbQAvLRUYJ"
      },
      "id": "5PtbQAvLRUYJ"
    },
    {
      "cell_type": "markdown",
      "source": [
        "![](https://drive.google.com/uc?export=view&id=1Kkp-r-g87eRdc_6BIz45uNqrehEPPA7O)\n",
        "\n",
        "![](https://drive.google.com/uc?export=view&id=1R23kiCQZuFpgdNHmjJta3v2IzBjCDwYF)\n",
        "\n",
        "![](https://drive.google.com/uc?export=view&id=1k3XEDP3w2Bj0ZUqTXWnyEYQkrH-xsRzv)\n",
        "\n",
        "![](https://drive.google.com/uc?export=view&id=1-ljzWHCXpi1Kw0GdYHKEBJUvVLUT6vFk)\n",
        "\n",
        "![](https://drive.google.com/uc?export=view&id=13YJcyAV9VyuN3--PcQ64AOybviPym3WT)\n",
        "\n",
        "![](https://drive.google.com/uc?export=view&id=1Jt6eYjOF28rfjxT1QA3iEPAHrzmLNrnB)\n",
        "\n",
        "![](https://drive.google.com/uc?export=view&id=18Qp3mTQt8oTnrMPO9XG8J2QljpQ88Dps)\n",
        "\n",
        "![](https://drive.google.com/uc?export=view&id=1O9IWrCuuAbVwKLn4rP9MnZaj_eWybSaQ)\n",
        "\n",
        "## Let's create a Kafka cluster\n",
        "\n",
        "![](https://drive.google.com/uc?export=view&id=1QjdM7Wu8idIYdpgahoQcU6gEmmdllJY4)\n",
        "\n",
        "## Create your cluster on the cloud provider and region of your choice.\n",
        "\n",
        "![](https://drive.google.com/uc?export=view&id=1eeuwIjiP_qQe2iunxBY9jMXzG44GGzzK)\n",
        "\n",
        "## Give your cluster a name\n",
        "\n",
        "![](https://drive.google.com/uc?export=view&id=1Q4HamRZmxXGUVmP8FGXBhmMUmPdiipnP)\n",
        "\n",
        "## Your cluster is ready to use\n",
        "\n",
        "![](https://drive.google.com/uc?export=view&id=1yDywKSKSWvxqcX1DtutHDG25ahhb4c7s)\n",
        "\n",
        "## Let's check your billing info\n",
        "\n",
        "![](https://drive.google.com/uc?export=view&id=1drDIMFw4mVb-LCHZrZwYMI1YyPadGbYF)\n",
        "\n",
        "## Clusters are placed in environments. The cluster you created earlier is in the default environment.\n",
        "\n",
        "![](https://drive.google.com/uc?export=view&id=1rSsP1EQUaG93uA0IfG86qQyHZSmpW5JC)\n",
        "\n",
        "![](https://drive.google.com/uc?export=view&id=1qmpJ5F3hW_pcyxR8_rV1M7xH9D8paINg)\n",
        "\n",
        "## Check your cluster details\n",
        "\n",
        "![](https://drive.google.com/uc?export=view&id=12v_oxYwJu1pUgAVXeSKOAWZpDgKuKX-k)\n",
        "\n",
        "![](https://drive.google.com/uc?export=view&id=1vxhUcKL0bX0qN-I-e4DLuIYaueZPSQ9S)\n"
      ],
      "metadata": {
        "id": "Da0XEK7b5Gpn"
      },
      "id": "Da0XEK7b5Gpn"
    },
    {
      "cell_type": "markdown",
      "source": [
        "# Let's get data into Confluent Cloud using Fully-managed Connectors"
      ],
      "metadata": {
        "id": "fuCUGJcPaIci"
      },
      "id": "fuCUGJcPaIci"
    },
    {
      "cell_type": "markdown",
      "source": [
        "## Let's use the MySQL CDC Source Connector to get data from a Transaction DB on Amazon RDS"
      ],
      "metadata": {
        "id": "0eVQRbM_FJ1U"
      },
      "id": "0eVQRbM_FJ1U"
    },
    {
      "cell_type": "markdown",
      "source": [
        "### RDS MySQL Details\n",
        "\n",
        "**RDS MySQL Hostname: testdb.cqzooevua9cx.ap-southeast-1.rds.amazonaws.com**\n",
        "\n",
        "**RDS MySQL Port: 3306**\n",
        "\n",
        "**RDS MySQL Username: admin**\n",
        "\n",
        "**RDS MySQL Password: instructor_will_provide**\n",
        "\n",
        "**RDS MySQL Table to Capture: ccloudlivelab.customeraccount_participant_1,ccloudlivelab.customertransactions_participant_1**\n",
        "\n",
        "---\n",
        "\n",
        "![](https://drive.google.com/uc?export=view&id=1YmuTRlpLEf_5m-tRCobuEwCIPyBfLW4C)\n",
        "\n",
        "![](https://drive.google.com/uc?export=view&id=1Tiw_ec3ZzWqhhknmNOH1IO3sISk7EQtK)\n",
        "\n",
        "![](https://drive.google.com/uc?export=view&id=1tK6T5Je0atyJ0zRG4jBhrtFg7V-FGFvF)\n",
        "\n",
        "![](https://drive.google.com/uc?export=view&id=1WAvJQdlW5O1Tr-L0NcL3eMS3E1Pzn7wp)\n",
        "\n",
        "![](https://drive.google.com/uc?export=view&id=1xpM5gDiZgr8usWWsYdx3Jje7c9Hmrt02)\n",
        "\n",
        "![](https://drive.google.com/uc?export=view&id=1maCpKOVI-rkNsct3OBP027wHylb0Dkk7)\n",
        "\n",
        "![](https://drive.google.com/uc?export=view&id=1x-54_jvu5PXwBsgh1KRKyRxnJRWwJDqo)\n",
        "\n",
        "![](https://drive.google.com/uc?export=view&id=1mfFfQ3xKEM3fx3WPwH8pgSjUgoaeNrnj)\n",
        "\n",
        "![](https://drive.google.com/uc?export=view&id=1nDZmslbamIF1fVs1DWVGNfOAoISikbzm)\n",
        "\n",
        "![](https://drive.google.com/uc?export=view&id=1Hy8EGV-sfsrAVZc3T3JqivRN_JwxtAOM)\n",
        "\n"
      ],
      "metadata": {
        "id": "NTJhpCF0bV9Z"
      },
      "id": "NTJhpCF0bV9Z"
    },
    {
      "cell_type": "markdown",
      "source": [
        "## Let's use the SQL Server CDC Source Connector to get data from a Customer Master Data DB on Amazon RDS"
      ],
      "metadata": {
        "id": "huzJYrdIwD7G"
      },
      "id": "huzJYrdIwD7G"
    },
    {
      "cell_type": "markdown",
      "source": [
        "### RDS SQL Server Details\n",
        "\n",
        "**RDS SQL Server Hostname: profiledb.cqzooevua9cx.ap-southeast-1.rds.amazonaws.com**\n",
        "\n",
        "**RDS SQL Server Port: 1433**\n",
        "\n",
        "**RDS SQL Server Username: admin**\n",
        "\n",
        "**RDS SQL Server Password: instructor_will_provide**\n",
        "\n",
        "**RDS SQL Database Name: ccloudlivelab**\n",
        "\n",
        "**RDS SQL Server Tables to Capture: dbo.profile_participant_1,dbo.phone_participant_1,dbo.address_participant_1**\n",
        "\n",
        "---\n",
        "\n",
        "![](https://drive.google.com/uc?export=view&id=1hkoJeDQfQtG1i3u-y665bvvAIrTXp7rn)\n",
        "\n",
        "![](https://drive.google.com/uc?export=view&id=1I1xp8T-Ig-jv6SiFT3CuSm3u5L64rEg3)\n",
        "\n",
        "![](https://drive.google.com/uc?export=view&id=1NZl-dq7vCspJZSKsRIhhXtCTpYQeRvVZ)\n",
        "\n",
        "![](https://drive.google.com/uc?export=view&id=1s9fPuzxXjfZv6ukc2PR2A6UGJL0UvQG7)\n",
        "\n",
        "![](https://drive.google.com/uc?export=view&id=1oafDsqjQWgpgS8Hr6OuhJpX5pLSSiGI2)\n",
        "\n",
        "![](https://drive.google.com/uc?export=view&id=1gT-EumQD48je3FHZ3tJVrqNDRFS2KZRB)\n",
        "\n",
        "![](https://drive.google.com/uc?export=view&id=1Aefw7zyF2tMJZCsxY0QWa3iynX2dzQ8h)\n",
        "\n",
        "![](https://drive.google.com/uc?export=view&id=1cggSv4SxCM1kOq7CPI1ndG6jta49ahBp)\n",
        "\n",
        "![](https://drive.google.com/uc?export=view&id=1npZGrB32lkWnwPCEwhWKsundSc_SzBiF)\n",
        "\n",
        "![](https://drive.google.com/uc?export=view&id=1r3JPJgNdJLdVlJRGkfJBbw9tghW3FyGl)\n"
      ],
      "metadata": {
        "id": "cmBxIr4cwRv5"
      },
      "id": "cmBxIr4cwRv5"
    },
    {
      "cell_type": "markdown",
      "source": [
        "# Create a Stream Processing Pipeline using ksqlDB in Confluent Cloud"
      ],
      "metadata": {
        "id": "hVX2KujEps0Q"
      },
      "id": "hVX2KujEps0Q"
    },
    {
      "cell_type": "markdown",
      "source": [
        "![](https://drive.google.com/uc?export=view&id=1COseBm9yanzSXqwdTBUUtq58Wjg0zTEd)\n",
        "\n",
        "![](https://drive.google.com/uc?export=view&id=16u3oK8_GtXvSb1MAd9vAU13XULBZR5sO)\n",
        "\n",
        "![](https://drive.google.com/uc?export=view&id=1QNoxpoLxvRv-tNLi87l49JZN90SKfYm_)\n",
        "\n",
        "![](https://drive.google.com/uc?export=view&id=1skLyNedpgSi8mtBpxO6qubbeBiOH2oPF)"
      ],
      "metadata": {
        "id": "kl9qfDG4P1J6"
      },
      "id": "kl9qfDG4P1J6"
    },
    {
      "cell_type": "markdown",
      "source": [
        "## Let's run these KSQL statements in your ksqlDB editor on Confluent Cloud\n",
        "\n",
        "### Check the ksqlDB cluster is up and running.\n",
        "\n",
        "![](https://drive.google.com/uc?export=view&id=15xWT3WjgPPEnwEUsL7n7XfRBPG_YPjrM)\n",
        "\n",
        "### Click the Cluster name to get to the ksqlDB editor.\n",
        "\n",
        "![](https://drive.google.com/uc?export=view&id=1DOtJx9Vith4UgAJAeWUlgo4hydTVT4ac)\n",
        "\n",
        "*   `create stream account_stream with (kafka_topic='mysql.ccloudlivelab.customeraccount_participant_1', value_format='avro');`\n",
        "\n",
        "*   `CREATE STREAM account_stream_keyed WITH(KAFKA_TOPIC='account_stream_keyed', VALUE_FORMAT='JSON') AS SELECT account_id, case when __deleted = 'false' then customer_id else customer_id end as customer_id, case when __deleted = 'false' then account_type else null end as account_type, case when __deleted = 'false' then account_opening_date else null end as account_opening_date FROM account_stream PARTITION BY account_id EMIT CHANGES;`\n",
        "\n",
        "*   `create stream transactions_stream with (kafka_topic='mysql.ccloudlivelab.customertransactions_participant_1', value_format='avro');`\n",
        "\n",
        "*   `CREATE STREAM transactions_stream_keyed WITH(KAFKA_TOPIC='transactions_stream_keyed', value_format='json') AS SELECT account_id, case when __deleted = 'false' then transaction_type else null end as transaction_type, case when transaction_type = 'DEPOSIT' then cast(transaction_amount as bigint) else cast(transaction_amount as bigint) * -1 end as transaction_amount FROM transactions_stream PARTITION BY account_id EMIT CHANGES;`\n",
        "\n",
        "*   `create stream account_master_stream with (kafka_topic='account_master_stream', value_format='json') as select ask.account_id as account_id, ask.customer_id as customer_id, ask.account_type as account_type, ask.account_opening_date as account_opening_date, tsk.transaction_amount as transaction_amount, tsk.transaction_type as transaction_type from account_stream_keyed ask inner join transactions_stream_keyed tsk within 1 days on ask.account_id=tsk.account_id partition by customer_id emit changes;`\n",
        "\n",
        "![](https://drive.google.com/uc?export=view&id=11yYWXud4mSN00eZlW7xduQ9lj3oixt40)\n",
        "\n",
        "*   `create stream profile_stream with (kafka_topic='sqlserver.dbo.profile_participant_1', value_format='avro');`\n",
        "\n",
        "*   `CREATE STREAM profile_stream_keyed WITH(KAFKA_TOPIC='profile_stream_keyed', value_format='json') AS SELECT customer_id, case when __deleted = 'false' then first_name else null end as first_name, case when __deleted = 'false' then last_name else null end as last_name, case when __deleted = 'false' then dob else null end as dob FROM profile_stream PARTITION BY customer_id EMIT CHANGES;`\n",
        "\n",
        "*   `create stream phone_stream with (kafka_topic='sqlserver.dbo.phone_participant_1', value_format='avro');`\n",
        "\n",
        "*   `CREATE STREAM phone_stream_keyed WITH(KAFKA_TOPIC='phone_stream_keyed', value_format='json') AS SELECT customer_id, case when __deleted = 'false' then phone_type else null end as phone_type, case when __deleted = 'false' then phone_num else null end as phone_num FROM phone_stream PARTITION BY customer_id EMIT CHANGES;`\n",
        "\n",
        "*   `create stream address_stream with (kafka_topic='sqlserver.dbo.address_participant_1', value_format='avro');`\n",
        "\n",
        "*   `CREATE STREAM address_stream_keyed WITH(KAFKA_TOPIC='address_stream_keyed', value_format='json') AS SELECT customer_id, case when __deleted = 'false' then address_line_1 else null end as address_line_1, case when __deleted = 'false' then address_line_2 else null end as address_line_2, case when __deleted = 'false' then pin else null end as pin, case when __deleted = 'false' then address_type else null end as address_type FROM address_stream PARTITION BY customer_id EMIT CHANGES;`\n",
        "\n",
        "*   `create stream c360_stream with (kafka_topic='c360_stream', value_format='json') as select pr.customer_id as customer_id, pr.first_name, pr.last_name, pr.dob, ph.phone_type, ph.phone_num, ad.address_line_1, ad.address_line_2, ad.pin, ad.address_type, am.account_id, am.account_type, am.account_opening_date, am.transaction_amount, am.transaction_type from profile_stream_keyed pr inner join phone_stream_keyed ph within 1 days on pr.customer_id=ph.customer_id inner join address_stream_keyed ad within 1 days on pr.customer_id=ad.customer_id inner join account_master_stream am within 1 days on pr.customer_id=am.customer_id emit changes;`\n",
        "\n",
        "**(replace below kafka_topic name with your participant ID e.g. c360_participant_2, c360_participant_3, ...)**\n",
        "*   `create table c360_view with (kafka_topic='c360_participant_ID', format='json_sr', partitions=1) as select customer_id, account_id, latest_by_offset(first_name, false) as first_name, latest_by_offset(last_name, false) as last_name, latest_by_offset(datetostring(dob, 'yyyy-MM-dd')) as dob, latest_by_offset(phone_type, false) as phone_type, latest_by_offset(phone_num, false) as phone_num, latest_by_offset(address_line_1, false) as address_line_1, latest_by_offset(address_line_2, false) as address_line_2, latest_by_offset(pin, false) as pin, latest_by_offset(address_type, false) as address_type, latest_by_offset(account_type, false) as account_type, latest_by_offset(account_opening_date, false) as account_opening_date, sum(transaction_amount) as account_balance from c360_stream group by customer_id, account_id emit changes;`"
      ],
      "metadata": {
        "id": "FnelGfgHutOt"
      },
      "id": "FnelGfgHutOt"
    },
    {
      "cell_type": "markdown",
      "source": [
        "### Once you run the above statements, click on Flow in the ksqlDB editor to view the stream processing pipeline you just created.\n",
        "\n",
        "![](https://drive.google.com/uc?export=view&id=1xm0bpvkgsT_YQd6tz8ywkEeJUng5WTAH)"
      ],
      "metadata": {
        "id": "7O45crJ0x0NN"
      },
      "id": "7O45crJ0x0NN"
    },
    {
      "cell_type": "markdown",
      "source": [
        "# Let's get data out of Confluent Cloud using Fully-managed Connectors"
      ],
      "metadata": {
        "id": "BzOd5Wsy09aW"
      },
      "id": "BzOd5Wsy09aW"
    },
    {
      "cell_type": "markdown",
      "source": [
        "## Let's use the Elastic Sink Connector to sink Customer 360 Data to Elastic Cloud\n",
        "\n",
        "**Elastic Connection Details:**\n",
        "\n",
        "**User: elastic**\n",
        "\n",
        "**Password: gOyH2PrZwHfUdhjTaeNLhAdE**\n",
        "\n",
        "**Endpoint: https://test-712f78.es.asia-southeast1.gcp.elastic-cloud.com**\n",
        "\n",
        "![](https://drive.google.com/uc?export=view&id=1sL8WD6ByEFXfGFRaW6C0X75aZvT_oaC8)\n",
        "\n",
        "![](https://drive.google.com/uc?export=view&id=1tdS0MP-HabC4jA9Rtn49ymTFjhn2sCpI)\n",
        "\n",
        "![](https://drive.google.com/uc?export=view&id=1lV5JdXArhh4NFWjWFdwLyr-B5hCgzJiK)\n",
        "\n",
        "![](https://drive.google.com/uc?export=view&id=1o-IU1ziKLu9RbJGfYkPKaVdHEUVgBk-X)\n",
        "\n",
        "![](https://drive.google.com/uc?export=view&id=1k_yL5WupVB0DCdtwfjanPVOSfDmFto6y)\n",
        "\n",
        "![](https://drive.google.com/uc?export=view&id=1k_yL5WupVB0DCdtwfjanPVOSfDmFto6y)\n",
        "\n",
        "![](https://drive.google.com/uc?export=view&id=1qLVHiHWd87ZyS6GUlg_EPpQroo1w4ybm)\n",
        "\n",
        "![](https://drive.google.com/uc?export=view&id=1S_PQNgifwKRhGM8AJyzBNh-H8GvnRfY0)\n",
        "\n",
        "![](https://drive.google.com/uc?export=view&id=1_a9syIClBLfYm6YML3Aj7XywA5T6_aRn)\n",
        "\n",
        "## The instructor will verify that the data has been sinked correctly via the Kibana dashboard on Elastic Cloud\n",
        "\n",
        "![](https://drive.google.com/uc?export=view&id=1bLhmk8qXiJUk2r4S8Ltl8uzW2Wwjq72q)\n",
        "\n",
        "![](https://drive.google.com/uc?export=view&id=1XCkOnSuFsUo-IJVQVFZH0TPc5B9MjjUa)\n"
      ],
      "metadata": {
        "id": "fTYB9eP51JLj"
      },
      "id": "fTYB9eP51JLj"
    },
    {
      "cell_type": "markdown",
      "metadata": {
        "id": "inclusive-minority"
      },
      "source": [
        "# Once done - Cleanup your Confluent Cloud Environment"
      ],
      "id": "inclusive-minority"
    },
    {
      "cell_type": "markdown",
      "source": [
        "![](https://drive.google.com/uc?export=view&id=1H6dXR41zLUXDrhKsLFlndp-7s_43Yp98)"
      ],
      "metadata": {
        "id": "cmB9FWLAR4j4"
      },
      "id": "cmB9FWLAR4j4"
    }
  ]
}