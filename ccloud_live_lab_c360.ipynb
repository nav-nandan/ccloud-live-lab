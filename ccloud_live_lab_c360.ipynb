{
  "nbformat": 4,
  "nbformat_minor": 5,
  "metadata": {
    "kernelspec": {
      "display_name": "Python 3",
      "language": "python",
      "name": "python3"
    },
    "language_info": {
      "codemirror_mode": {
        "name": "ipython",
        "version": 3
      },
      "file_extension": ".py",
      "mimetype": "text/x-python",
      "name": "python",
      "nbconvert_exporter": "python",
      "pygments_lexer": "ipython3",
      "version": "3.8.8"
    },
    "colab": {
      "provenance": [],
      "collapsed_sections": [
        "EhDED_YnCLdI",
        "gmZSdC3-RRBT",
        "5PtbQAvLRUYJ",
        "Da0XEK7b5Gpn",
        "l638pNS9Dt9f",
        "moderate-annual",
        "brief-monkey",
        "ad703tZEEpOp",
        "1TgSN8bBEwEp",
        "corresponding-savings",
        "DV5t3SBnf_W-",
        "et0Oth6k17NY",
        "minute-university",
        "-Qp91CV72Gqr",
        "fuCUGJcPaIci",
        "32D94Z3mFAs7",
        "0eVQRbM_FJ1U",
        "rl2GmlRHdk7a",
        "puLJfA4AFftk",
        "xz7GIUKkFtP9",
        "8sKEci77Fwn0",
        "hVX2KujEps0Q",
        "_qmTNhYZQXQC",
        "FnelGfgHutOt",
        "7O45crJ0x0NN",
        "QvNLkLZfaMUP",
        "xFqFruTs_Cmg",
        "3ouK-BCPY0cB",
        "TxRzItn8X_Vr",
        "inclusive-minority"
      ],
      "include_colab_link": true
    }
  },
  "cells": [
    {
      "cell_type": "markdown",
      "metadata": {
        "id": "view-in-github",
        "colab_type": "text"
      },
      "source": [
        "<a href=\"https://colab.research.google.com/github/nav-nandan/ccloud-live-lab/blob/master/ccloud_live_lab_c360.ipynb\" target=\"_parent\"><img src=\"https://colab.research.google.com/assets/colab-badge.svg\" alt=\"Open In Colab\"/></a>"
      ]
    },
    {
      "cell_type": "markdown",
      "source": [
        "# Welcome to Confluent Cloud Live Lab\n",
        "\n",
        "## Real-Time Data Pipelines Made Simple\n",
        "\n",
        "\n",
        "---\n",
        "\n",
        "## What we'll be building today"
      ],
      "metadata": {
        "id": "EhDED_YnCLdI"
      },
      "id": "EhDED_YnCLdI"
    },
    {
      "cell_type": "markdown",
      "source": [
        "![](https://drive.google.com/uc?export=view&id=1OuRGyXCY4aZVFs_1hlNUH0j1GS0BpR6A)\n",
        "\n",
        "![](https://drive.google.com/uc?export=view&id=1a-05q9KqeBYiWTEeRdS5K5xgvVGimNOB)"
      ],
      "metadata": {
        "id": "yuFJmiWpBvZF"
      },
      "id": "yuFJmiWpBvZF"
    },
    {
      "cell_type": "markdown",
      "source": [
        "# Sign Up on Confluent Cloud if you haven't already"
      ],
      "metadata": {
        "id": "gmZSdC3-RRBT"
      },
      "id": "gmZSdC3-RRBT"
    },
    {
      "cell_type": "markdown",
      "source": [
        "## Click to Sign Up\n",
        "\n",
        "### https://confluent.cloud/signup"
      ],
      "metadata": {
        "id": "5PtbQAvLRUYJ"
      },
      "id": "5PtbQAvLRUYJ"
    },
    {
      "cell_type": "markdown",
      "source": [
        "![](https://drive.google.com/uc?export=view&id=1Kkp-r-g87eRdc_6BIz45uNqrehEPPA7O)\n",
        "\n",
        "![](https://drive.google.com/uc?export=view&id=1R23kiCQZuFpgdNHmjJta3v2IzBjCDwYF)\n",
        "\n",
        "![](https://drive.google.com/uc?export=view&id=1k3XEDP3w2Bj0ZUqTXWnyEYQkrH-xsRzv)\n",
        "\n",
        "![](https://drive.google.com/uc?export=view&id=1-ljzWHCXpi1Kw0GdYHKEBJUvVLUT6vFk)\n",
        "\n",
        "![](https://drive.google.com/uc?export=view&id=13YJcyAV9VyuN3--PcQ64AOybviPym3WT)\n",
        "\n",
        "![](https://drive.google.com/uc?export=view&id=1Jt6eYjOF28rfjxT1QA3iEPAHrzmLNrnB)\n",
        "\n",
        "![](https://drive.google.com/uc?export=view&id=18Qp3mTQt8oTnrMPO9XG8J2QljpQ88Dps)\n",
        "\n",
        "![](https://drive.google.com/uc?export=view&id=1O9IWrCuuAbVwKLn4rP9MnZaj_eWybSaQ)\n",
        "\n",
        "## Let's create a Kafka cluster\n",
        "\n",
        "![](https://drive.google.com/uc?export=view&id=1QjdM7Wu8idIYdpgahoQcU6gEmmdllJY4)\n",
        "\n",
        "## Create your cluster on the cloud provider and region of your choice. \n",
        "\n",
        "![](https://drive.google.com/uc?export=view&id=1eeuwIjiP_qQe2iunxBY9jMXzG44GGzzK)\n",
        "\n",
        "## Give your cluster a name\n",
        "\n",
        "![](https://drive.google.com/uc?export=view&id=1Q4HamRZmxXGUVmP8FGXBhmMUmPdiipnP)\n",
        "\n",
        "## Your cluster is ready to use\n",
        "\n",
        "![](https://drive.google.com/uc?export=view&id=1yDywKSKSWvxqcX1DtutHDG25ahhb4c7s)\n",
        "\n",
        "## Let's check your billing info\n",
        "\n",
        "![](https://drive.google.com/uc?export=view&id=1drDIMFw4mVb-LCHZrZwYMI1YyPadGbYF)\n",
        "\n",
        "## Clusters are placed in environments. The cluster you created earlier is in the default environment.\n",
        "\n",
        "![](https://drive.google.com/uc?export=view&id=1rSsP1EQUaG93uA0IfG86qQyHZSmpW5JC)\n",
        "\n",
        "![](https://drive.google.com/uc?export=view&id=1qmpJ5F3hW_pcyxR8_rV1M7xH9D8paINg)\n",
        "\n",
        "## Check your cluster details\n",
        "\n",
        "![](https://drive.google.com/uc?export=view&id=12v_oxYwJu1pUgAVXeSKOAWZpDgKuKX-k)\n",
        "\n",
        "![](https://drive.google.com/uc?export=view&id=1vxhUcKL0bX0qN-I-e4DLuIYaueZPSQ9S)\n"
      ],
      "metadata": {
        "id": "Da0XEK7b5Gpn"
      },
      "id": "Da0XEK7b5Gpn"
    },
    {
      "cell_type": "markdown",
      "source": [
        "# Let's get data into Confluent Cloud using Fully-managed Connectors"
      ],
      "metadata": {
        "id": "fuCUGJcPaIci"
      },
      "id": "fuCUGJcPaIci"
    },
    {
      "cell_type": "markdown",
      "source": [
        "## Let's use the MySQL CDC Source Connector to get data from Amazon RDS"
      ],
      "metadata": {
        "id": "0eVQRbM_FJ1U"
      },
      "id": "0eVQRbM_FJ1U"
    },
    {
      "cell_type": "markdown",
      "source": [
        "![](https://drive.google.com/uc?export=view&id=1YmuTRlpLEf_5m-tRCobuEwCIPyBfLW4C)\n",
        "\n",
        "![](https://drive.google.com/uc?export=view&id=1Tiw_ec3ZzWqhhknmNOH1IO3sISk7EQtK)\n",
        "\n",
        "![](https://drive.google.com/uc?export=view&id=1tK6T5Je0atyJ0zRG4jBhrtFg7V-FGFvF)\n",
        "\n",
        "![](https://drive.google.com/uc?export=view&id=1i4iEtkvqH4K68UqpAJJoMqsEcJuZHaiB)\n",
        "\n",
        "![](https://drive.google.com/uc?export=view&id=1PwU8FJWpuRYDWD60-aKNGPmL0wBoBSeI)\n",
        "\n",
        "![](https://drive.google.com/uc?export=view&id=1SJSMvGJZ_rvQ7WBfS3dmyEUE5nJrQzLX)\n",
        "\n",
        "![](https://drive.google.com/uc?export=view&id=1eOlMTATHmXnrfOZg6-Kyqe7EpL4SqS3b)\n",
        "\n",
        "![](https://drive.google.com/uc?export=view&id=1apKVat6aYDjCAb4hhzDSg9CUgpE5xzLk)\n",
        "\n",
        "![](https://drive.google.com/uc?export=view&id=1UTTodh-BFeL3m3uAKcnurGXNNKP8fDDG)\n",
        "\n",
        "![](https://drive.google.com/uc?export=view&id=1Il94PYI5lAChaZtqJ_3tZDJltm1rcDp4)\n",
        "\n",
        "![](https://drive.google.com/uc?export=view&id=1ZYDWT2QJA0--z_AFHJNTUGCK8G3Px1cw)\n",
        "\n",
        "![](https://drive.google.com/uc?export=view&id=1F81fIzhVblUCbRBo0hN2HU2ZUd_x6oOt)\n",
        "\n",
        "![](https://drive.google.com/uc?export=view&id=1JNrYDqhGcGBm9TtlIUnGGIQatRAe6mxN)\n",
        "\n",
        "![](https://drive.google.com/uc?export=view&id=1E2pEmxzx7zXecvo2vjqWPcSJPZtVy7mg)\n",
        "\n",
        "![](https://drive.google.com/uc?export=view&id=1PxscRJ6FA2snWi3gtME6SstBcKfVJfLn)\n",
        "\n",
        "![](https://drive.google.com/uc?export=view&id=1vOCEDjRq2YBP-wnzQQPExKcS8Q7I-Aiu)"
      ],
      "metadata": {
        "id": "NTJhpCF0bV9Z"
      },
      "id": "NTJhpCF0bV9Z"
    },
    {
      "cell_type": "markdown",
      "source": [
        "# Create a Stream Processing Pipeline using ksqlDB in Confluent Cloud"
      ],
      "metadata": {
        "id": "hVX2KujEps0Q"
      },
      "id": "hVX2KujEps0Q"
    },
    {
      "cell_type": "markdown",
      "source": [
        "![](https://drive.google.com/uc?export=view&id=1COseBm9yanzSXqwdTBUUtq58Wjg0zTEd)\n",
        "\n",
        "![](https://drive.google.com/uc?export=view&id=16u3oK8_GtXvSb1MAd9vAU13XULBZR5sO)\n",
        "\n",
        "![](https://drive.google.com/uc?export=view&id=1ck6RvVTpFraocvQxLur7qSAfr0-q2SL1)\n",
        "\n",
        "![](https://drive.google.com/uc?export=view&id=1skLyNedpgSi8mtBpxO6qubbeBiOH2oPF)"
      ],
      "metadata": {
        "id": "kl9qfDG4P1J6"
      },
      "id": "kl9qfDG4P1J6"
    },
    {
      "cell_type": "markdown",
      "source": [
        "## Let's run these KSQL statements in your ksqlDB editor on Confluent Cloud\n",
        "\n",
        "### Check the ksqlDB cluster is up and running.\n",
        "\n",
        "![](https://drive.google.com/uc?export=view&id=1DbRhv-ve7lIQ_xViuiVstsEODPZKlUQd)\n",
        "\n",
        "### Click the Cluster name to get to the ksqlDB editor.\n",
        "\n",
        "![](https://drive.google.com/uc?export=view&id=1kHbn2LqnDSwmb8BByY2KcdYra3b5ISIp)\n",
        "\n",
        "*   create stream accounts_transactions with (kafka_topic='lab.accounts.transactions_participant_1', value_format='avro');\n",
        "\n",
        "*   create stream transaction_type_check with (kafka_topic='transaction_type_check', format='json') as select account_id, case when transaction_type = 'DEPOSIT' then amount else -amount end as amount from accounts_transactions where __DELETED = 'false' EMIT CHANGES;\n",
        "\n",
        "*   create table account_balance with (kafka_topic='account_balance_participant_1', format='json') as\n",
        "select account_id, sum(amount) as account_balance from transaction_type_check as account_balance group by account_id emit changes;\n"
      ],
      "metadata": {
        "id": "FnelGfgHutOt"
      },
      "id": "FnelGfgHutOt"
    },
    {
      "cell_type": "markdown",
      "source": [
        "### Once you run the above statements, click on Flow in the ksqlDB editor to view the stream processing pipeline you just created.\n",
        "\n",
        "![](https://drive.google.com/uc?export=view&id=11RdI7c2t4na8fcvPRSkzCwzOlkojf3Kw)"
      ],
      "metadata": {
        "id": "7O45crJ0x0NN"
      },
      "id": "7O45crJ0x0NN"
    },
    {
      "cell_type": "markdown",
      "source": [
        "# Payments App"
      ],
      "metadata": {
        "id": "9RQB3iZ_X8h_"
      },
      "id": "9RQB3iZ_X8h_"
    },
    {
      "cell_type": "markdown",
      "source": [
        "### Create a payments topic in your Confluent Cloud cluster, and run the following KSQL statements in the ksqlDB editor. (You should know by now where to find it)\n",
        "\n",
        "*   create stream payments (account_id varchar, amount double) with (kafka_topic='payments', value_format='json');\n",
        "*   create stream payments_check with (kafka_topic='transaction_type_check', format='json') as select account_id, amount from payments emit changes;\n",
        "\n",
        "### Similar to before, check the Flow view after running the above KSQL statements to see how you integrated payments into your transactions stream processing pipeline.\n",
        "\n",
        "![](https://drive.google.com/uc?export=view&id=1nO428ebgEbzCIHXVWWAf-SB4nDNjdVlW)"
      ],
      "metadata": {
        "id": "3ouK-BCPY0cB"
      },
      "id": "3ouK-BCPY0cB"
    },
    {
      "cell_type": "markdown",
      "source": [
        "### Access the Payments App URL provided by the instructor\n",
        "\n",
        "### Enter your cluster details and simulate payments\n",
        "\n",
        "![](https://drive.google.com/uc?export=view&id=1WLPITXco-vzG_LfSHguZu62sfurDslHh)"
      ],
      "metadata": {
        "id": "TxRzItn8X_Vr"
      },
      "id": "TxRzItn8X_Vr"
    },
    {
      "cell_type": "markdown",
      "metadata": {
        "id": "inclusive-minority"
      },
      "source": [
        "# Cleanup your Confluent Cloud Environment"
      ],
      "id": "inclusive-minority"
    },
    {
      "cell_type": "markdown",
      "source": [
        "![](https://drive.google.com/uc?export=view&id=1H6dXR41zLUXDrhKsLFlndp-7s_43Yp98)"
      ],
      "metadata": {
        "id": "cmB9FWLAR4j4"
      },
      "id": "cmB9FWLAR4j4"
    }
  ]
}