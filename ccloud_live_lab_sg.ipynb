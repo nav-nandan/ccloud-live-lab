{
  "nbformat": 4,
  "nbformat_minor": 5,
  "metadata": {
    "kernelspec": {
      "display_name": "Python 3",
      "language": "python",
      "name": "python3"
    },
    "language_info": {
      "codemirror_mode": {
        "name": "ipython",
        "version": 3
      },
      "file_extension": ".py",
      "mimetype": "text/x-python",
      "name": "python",
      "nbconvert_exporter": "python",
      "pygments_lexer": "ipython3",
      "version": "3.8.8"
    },
    "colab": {
      "name": "ccloud_live_lab_sg.ipynb",
      "provenance": [],
      "collapsed_sections": [
        "EhDED_YnCLdI",
        "gmZSdC3-RRBT",
        "5PtbQAvLRUYJ",
        "Da0XEK7b5Gpn",
        "l638pNS9Dt9f",
        "moderate-annual",
        "brief-monkey",
        "ad703tZEEpOp",
        "1TgSN8bBEwEp",
        "corresponding-savings",
        "DV5t3SBnf_W-",
        "et0Oth6k17NY",
        "minute-university",
        "-Qp91CV72Gqr",
        "fuCUGJcPaIci",
        "32D94Z3mFAs7",
        "0eVQRbM_FJ1U",
        "rl2GmlRHdk7a",
        "puLJfA4AFftk",
        "xz7GIUKkFtP9",
        "8sKEci77Fwn0",
        "hVX2KujEps0Q",
        "_qmTNhYZQXQC",
        "FnelGfgHutOt",
        "7O45crJ0x0NN",
        "QvNLkLZfaMUP",
        "xFqFruTs_Cmg",
        "3ouK-BCPY0cB",
        "TxRzItn8X_Vr",
        "inclusive-minority"
      ]
    }
  },
  "cells": [
    {
      "cell_type": "markdown",
      "source": [
        "# Welcome to Confluent Cloud Live Lab\n",
        "\n",
        "## Real-Time Data Pipelines Made Simple\n",
        "\n",
        "\n",
        "---\n",
        "\n",
        "## What we'll be building today"
      ],
      "metadata": {
        "id": "EhDED_YnCLdI"
      },
      "id": "EhDED_YnCLdI"
    },
    {
      "cell_type": "markdown",
      "source": [
        "![](https://drive.google.com/uc?export=view&id=1byP_4AwzSx332TTdgUsfd2D5xIA-eRU8)\n",
        "\n",
        "![](https://drive.google.com/uc?export=view&id=1H4nqoe87QOBcUo7NiVbHmkUmzfTk1eNU)"
      ],
      "metadata": {
        "id": "yuFJmiWpBvZF"
      },
      "id": "yuFJmiWpBvZF"
    },
    {
      "cell_type": "markdown",
      "source": [
        "# Sign Up on Confluent Cloud if you haven't already"
      ],
      "metadata": {
        "id": "gmZSdC3-RRBT"
      },
      "id": "gmZSdC3-RRBT"
    },
    {
      "cell_type": "markdown",
      "source": [
        "## Click to Sign Up\n",
        "\n",
        "### https://confluent.cloud/signup?utm_campaign=tm.fm-apac_cd.2022.07.28_APAC_SG_WS_Confluent-Cloud-Customer-Live-Lab&utm_source=(unknown)&utm_medium=event"
      ],
      "metadata": {
        "id": "5PtbQAvLRUYJ"
      },
      "id": "5PtbQAvLRUYJ"
    },
    {
      "cell_type": "markdown",
      "source": [
        "![](https://drive.google.com/uc?export=view&id=1Kkp-r-g87eRdc_6BIz45uNqrehEPPA7O)\n",
        "\n",
        "![](https://drive.google.com/uc?export=view&id=1R23kiCQZuFpgdNHmjJta3v2IzBjCDwYF)\n",
        "\n",
        "![](https://drive.google.com/uc?export=view&id=1k3XEDP3w2Bj0ZUqTXWnyEYQkrH-xsRzv)\n",
        "\n",
        "![](https://drive.google.com/uc?export=view&id=1-ljzWHCXpi1Kw0GdYHKEBJUvVLUT6vFk)\n",
        "\n",
        "![](https://drive.google.com/uc?export=view&id=13YJcyAV9VyuN3--PcQ64AOybviPym3WT)\n",
        "\n",
        "![](https://drive.google.com/uc?export=view&id=1Jt6eYjOF28rfjxT1QA3iEPAHrzmLNrnB)\n",
        "\n",
        "![](https://drive.google.com/uc?export=view&id=18Qp3mTQt8oTnrMPO9XG8J2QljpQ88Dps)\n",
        "\n",
        "![](https://drive.google.com/uc?export=view&id=1O9IWrCuuAbVwKLn4rP9MnZaj_eWybSaQ)\n",
        "\n",
        "## Let's create a Kafka cluster\n",
        "\n",
        "![](https://drive.google.com/uc?export=view&id=1QjdM7Wu8idIYdpgahoQcU6gEmmdllJY4)\n",
        "\n",
        "## Create your cluster on the cloud provider and region of your choice. Confluent partners with all of them but since Confluent was Recognized as the Winner of 2022 Microsoft Commercial Marketplace Partner of the Year, why not try Azure in Singapore today as a small giveback?\n",
        "\n",
        "![](https://drive.google.com/uc?export=view&id=1DyI4FaIV2n_Bz2LSC6jAIlgDlsAhO4UP)\n",
        "\n",
        "## Skip the payment, it's on us today!\n",
        "\n",
        "![](https://drive.google.com/uc?export=view&id=1huFm7-ATlhSrj_GpQUtfQKDXF4j3LySF)\n",
        "\n",
        "## Give your cluster a name\n",
        "\n",
        "![](https://drive.google.com/uc?export=view&id=1Q4HamRZmxXGUVmP8FGXBhmMUmPdiipnP)\n",
        "\n",
        "## Your cluster is ready to use\n",
        "\n",
        "![](https://drive.google.com/uc?export=view&id=1yDywKSKSWvxqcX1DtutHDG25ahhb4c7s)\n",
        "\n",
        "## Let's check your billing info\n",
        "\n",
        "![](https://drive.google.com/uc?export=view&id=1drDIMFw4mVb-LCHZrZwYMI1YyPadGbYF)\n",
        "\n",
        "## Note down your Cloud Organization ID, you'll need it later on\n",
        "\n",
        "![](https://drive.google.com/uc?export=view&id=1ZEMZVgQTh-p4NfsR1155z9gueqxhop3s)\n",
        "\n",
        "## Clusters are placed in environments. The cluster you created earlier is in the default environment.\n",
        "\n",
        "![](https://drive.google.com/uc?export=view&id=1rSsP1EQUaG93uA0IfG86qQyHZSmpW5JC)\n",
        "\n",
        "![](https://drive.google.com/uc?export=view&id=1qmpJ5F3hW_pcyxR8_rV1M7xH9D8paINg)\n",
        "\n",
        "## Check your cluster details\n",
        "\n",
        "![](https://drive.google.com/uc?export=view&id=12v_oxYwJu1pUgAVXeSKOAWZpDgKuKX-k)\n",
        "\n",
        "![](https://drive.google.com/uc?export=view&id=1vxhUcKL0bX0qN-I-e4DLuIYaueZPSQ9S)\n"
      ],
      "metadata": {
        "id": "Da0XEK7b5Gpn"
      },
      "id": "Da0XEK7b5Gpn"
    },
    {
      "cell_type": "markdown",
      "source": [
        "# That was easy. Now let's see how it's done on the CLI."
      ],
      "metadata": {
        "id": "l638pNS9Dt9f"
      },
      "id": "l638pNS9Dt9f"
    },
    {
      "cell_type": "markdown",
      "metadata": {
        "id": "moderate-annual"
      },
      "source": [
        "## Get Confluent Cloud CLI"
      ],
      "id": "moderate-annual"
    },
    {
      "cell_type": "code",
      "metadata": {
        "colab": {
          "base_uri": "https://localhost:8080/"
        },
        "id": "editorial-mirror",
        "outputId": "38124031-b239-4b76-d123-1ccb980c1b80"
      },
      "source": [
        "%%bash\n",
        "curl -O https://s3-us-west-2.amazonaws.com/confluent.cloud/confluent-cli/archives/latest/confluent_latest_linux_amd64.tar.gz\n",
        "tar -xzvf confluent_latest_linux_amd64.tar.gz\n",
        "ls"
      ],
      "id": "editorial-mirror",
      "execution_count": null,
      "outputs": [
        {
          "output_type": "stream",
          "name": "stdout",
          "text": [
            "confluent/LICENSE\n",
            "confluent/legal/licenses/LICENSE-PuerkitoBio_purell.txt\n",
            "confluent/legal/licenses/LICENSE-PuerkitoBio_urlesc.txt\n",
            "confluent/legal/licenses/LICENSE-antihax_optional.txt\n",
            "confluent/legal/licenses/LICENSE-aws_aws-sdk-go.txt\n",
            "confluent/legal/licenses/LICENSE-brianstrauch_cobra-shell.txt\n",
            "confluent/legal/licenses/LICENSE-c-bata_go-prompt.txt\n",
            "confluent/legal/licenses/LICENSE-codyaray_retag.txt\n",
            "confluent/legal/licenses/LICENSE-confluentinc_bincover.txt\n",
            "confluent/legal/licenses/LICENSE-confluentinc_ccloud-sdk-go-v2.txt\n",
            "confluent/legal/licenses/LICENSE-confluentinc_confluent-kafka-go.txt\n",
            "confluent/legal/licenses/LICENSE-confluentinc_go-netrc.txt\n",
            "confluent/legal/licenses/LICENSE-confluentinc_go-ps1.txt\n",
            "confluent/legal/licenses/LICENSE-confluentinc_kafka-rest-sdk-go.txt\n",
            "confluent/legal/licenses/LICENSE-confluentinc_properties.txt\n",
            "confluent/legal/licenses/LICENSE-davecgh_go-spew.txt\n",
            "confluent/legal/licenses/LICENSE-dghubble_sling.txt\n",
            "confluent/legal/licenses/LICENSE-emicklei_go-restful.txt\n",
            "confluent/legal/licenses/LICENSE-envoyproxy_protoc-gen-validate.txt\n",
            "confluent/legal/licenses/LICENSE-evanphx_json-patch.txt\n",
            "confluent/legal/licenses/LICENSE-fatih_color.txt\n",
            "confluent/legal/licenses/LICENSE-ghodss_yaml.txt\n",
            "confluent/legal/licenses/LICENSE-go-openapi_jsonpointer.txt\n",
            "confluent/legal/licenses/LICENSE-go-openapi_jsonreference.txt\n",
            "confluent/legal/licenses/LICENSE-go-openapi_spec.txt\n",
            "confluent/legal/licenses/LICENSE-go-openapi_swag.txt\n",
            "confluent/legal/licenses/LICENSE-go-yaml_yaml.txt\n",
            "confluent/legal/licenses/LICENSE-gogo_protobuf.txt\n",
            "confluent/legal/licenses/LICENSE-golang_glog.txt\n",
            "confluent/legal/licenses/LICENSE-golang_protobuf.txt\n",
            "confluent/legal/licenses/LICENSE-golang_snappy.txt\n",
            "confluent/legal/licenses/LICENSE-google_go-querystring.txt\n",
            "confluent/legal/licenses/LICENSE-google_gofuzz.txt\n",
            "confluent/legal/licenses/LICENSE-google_shlex.txt\n",
            "confluent/legal/licenses/LICENSE-google_uuid.txt\n",
            "confluent/legal/licenses/LICENSE-gorilla_mux.txt\n",
            "confluent/legal/licenses/LICENSE-grpc-ecosystem_grpc-gateway.txt\n",
            "confluent/legal/licenses/LICENSE-hashicorp_errwrap.txt\n",
            "confluent/legal/licenses/LICENSE-hashicorp_go-cleanhttp.txt\n",
            "confluent/legal/licenses/LICENSE-hashicorp_go-hclog.txt\n",
            "confluent/legal/licenses/LICENSE-hashicorp_go-multierror.txt\n",
            "confluent/legal/licenses/LICENSE-hashicorp_go-retryablehttp.txt\n",
            "confluent/legal/licenses/LICENSE-hashicorp_go-version.txt\n",
            "confluent/legal/licenses/LICENSE-havoc-io_gopass.txt\n",
            "confluent/legal/licenses/LICENSE-iancoleman_strcase.txt\n",
            "confluent/legal/licenses/LICENSE-imdario_mergo.txt\n",
            "confluent/legal/licenses/LICENSE-jackc_chunkreader.txt\n",
            "confluent/legal/licenses/LICENSE-jackc_pgconn.txt\n",
            "confluent/legal/licenses/LICENSE-jackc_pgerrcode.txt\n",
            "confluent/legal/licenses/LICENSE-jackc_pgio.txt\n",
            "confluent/legal/licenses/LICENSE-jackc_pgpassfile.txt\n",
            "confluent/legal/licenses/LICENSE-jackc_pgproto3.txt\n",
            "confluent/legal/licenses/LICENSE-jackc_pgservicefile.txt\n",
            "confluent/legal/licenses/LICENSE-jhump_protoreflect.txt\n",
            "confluent/legal/licenses/LICENSE-jmespath_go-jmespath.txt\n",
            "confluent/legal/licenses/LICENSE-jonboulle_clockwork.txt\n",
            "confluent/legal/licenses/LICENSE-josharian_intern.txt\n",
            "confluent/legal/licenses/LICENSE-lib_pq.txt\n",
            "confluent/legal/licenses/LICENSE-linkedin_goavro.txt\n",
            "confluent/legal/licenses/LICENSE-mailru_easyjson.txt\n",
            "confluent/legal/licenses/LICENSE-mattn_go-colorable.txt\n",
            "confluent/legal/licenses/LICENSE-mattn_go-isatty.txt\n",
            "confluent/legal/licenses/LICENSE-mattn_go-runewidth.txt\n",
            "confluent/legal/licenses/LICENSE-olekukonko_tablewriter.txt\n",
            "confluent/legal/licenses/LICENSE-pkg_browser.txt\n",
            "confluent/legal/licenses/LICENSE-pkg_errors.txt\n",
            "confluent/legal/licenses/LICENSE-pkg_term.txt\n",
            "confluent/legal/licenses/LICENSE-pmezard_go-difflib.txt\n",
            "confluent/legal/licenses/LICENSE-sirupsen_logrus.txt\n",
            "confluent/legal/licenses/LICENSE-spf13_cobra.txt\n",
            "confluent/legal/licenses/LICENSE-spf13_pflag.txt\n",
            "confluent/legal/licenses/LICENSE-stretchr_testify.txt\n",
            "confluent/legal/licenses/LICENSE-stripe_stripe-go.txt\n",
            "confluent/legal/licenses/LICENSE-tidwall_gjson.txt\n",
            "confluent/legal/licenses/LICENSE-tidwall_match.txt\n",
            "confluent/legal/licenses/LICENSE-tidwall_pretty.txt\n",
            "confluent/legal/licenses/LICENSE-tidwall_sjson.txt\n",
            "confluent/legal/licenses/LICENSE-ugorji_go.txt\n",
            "confluent/legal/notices/NOTICE-jmespath_go-jmespath.txt\n",
            "confluent/confluent\n",
            "confluent\n",
            "confluent_latest_linux_amd64.tar.gz\n",
            "sample_data\n"
          ]
        },
        {
          "output_type": "stream",
          "name": "stderr",
          "text": [
            "  % Total    % Received % Xferd  Average Speed   Time    Time     Time  Current\n",
            "                                 Dload  Upload   Total   Spent    Left  Speed\n",
            "\r  0     0    0     0    0     0      0      0 --:--:-- --:--:-- --:--:--     0\r 59 17.0M   59 10.2M    0     0  10.2M      0  0:00:01 --:--:--  0:00:01 10.2M\r100 17.0M  100 17.0M    0     0  15.1M      0  0:00:01  0:00:01 --:--:-- 15.1M\n"
          ]
        }
      ]
    },
    {
      "cell_type": "code",
      "metadata": {
        "colab": {
          "base_uri": "https://localhost:8080/"
        },
        "id": "nominated-blond",
        "outputId": "dea941f5-bdfd-40ad-db3c-58430118d4d9"
      },
      "source": [
        "%%bash\n",
        "export PATH=$PATH:/content/confluent/\n",
        "confluent --help"
      ],
      "id": "nominated-blond",
      "execution_count": null,
      "outputs": [
        {
          "output_type": "stream",
          "name": "stderr",
          "text": [
            "Manage your Confluent Cloud or Confluent Platform. Log in to see all available commands.\n",
            "\n",
            "Usage:\n",
            "  confluent [command]\n",
            "\n",
            "Available Commands:\n",
            "  cloud-signup    Sign up for Confluent Cloud.\n",
            "  completion      Print shell completion code.\n",
            "  context         Manage CLI configuration contexts.\n",
            "  help            Help about any command\n",
            "  kafka           Manage Apache Kafka.\n",
            "  local           Manage a local Confluent Platform development environment.\n",
            "  login           Log in to Confluent Cloud or Confluent Platform.\n",
            "  logout          Log out of Confluent Cloud or Confluent Platform.\n",
            "  prompt          Add Confluent CLI context to your terminal prompt.\n",
            "  secret          Manage secrets for Confluent Platform.\n",
            "  shell           Start an interactive shell.\n",
            "  update          Update the Confluent CLI.\n",
            "  version         Show version of the Confluent CLI.\n",
            "\n",
            "Flags:\n",
            "      --version         Show version of the Confluent CLI.\n",
            "  -h, --help            Show help for this command.\n",
            "  -v, --verbose count   Increase verbosity (-v for warn, -vv for info, -vvv for debug, -vvvv for trace).\n",
            "\n",
            "Use \"confluent [command] --help\" for more information about a command.\n"
          ]
        }
      ]
    },
    {
      "cell_type": "markdown",
      "metadata": {
        "id": "brief-monkey"
      },
      "source": [
        "## Login to Confluent Cloud"
      ],
      "id": "brief-monkey"
    },
    {
      "cell_type": "code",
      "metadata": {
        "colab": {
          "base_uri": "https://localhost:8080/"
        },
        "id": "personal-safety",
        "outputId": "4720937f-01da-4357-92d9-9ddb073d1b35"
      },
      "source": [
        "%%bash\n",
        "export PATH=$PATH:/content/confluent\n",
        "export CONFLUENT_CLOUD_EMAIL=<ccloud-user-email>\n",
        "export CONFLUENT_CLOUD_PASSWORD=<ccloud-user-password>\n",
        "confluent login --organization-id <ccloud-org-id> --save"
      ],
      "id": "personal-safety",
      "execution_count": null,
      "outputs": [
        {
          "output_type": "stream",
          "name": "stderr",
          "text": [
            "Wrote credentials to netrc file \"/root/.netrc\"\n"
          ]
        }
      ]
    },
    {
      "cell_type": "markdown",
      "source": [
        "## Create an Environment"
      ],
      "metadata": {
        "id": "ad703tZEEpOp"
      },
      "id": "ad703tZEEpOp"
    },
    {
      "cell_type": "markdown",
      "source": [
        "![](https://drive.google.com/uc?export=view&id=1Tx6VvbLI2eG3JCeiRzlXAiDcvi34a-tl)"
      ],
      "metadata": {
        "id": "3u5yplx_hkpu"
      },
      "id": "3u5yplx_hkpu"
    },
    {
      "cell_type": "markdown",
      "source": [
        "![](https://drive.google.com/uc?export=view&id=1fhnlGP7uZ3f36Pp8FjIYhes3uakVnKdT)"
      ],
      "metadata": {
        "id": "d-9icaTjhpi-"
      },
      "id": "d-9icaTjhpi-"
    },
    {
      "cell_type": "code",
      "metadata": {
        "colab": {
          "base_uri": "https://localhost:8080/"
        },
        "id": "military-confidence",
        "outputId": "ed40a81b-2ece-4dd0-89af-7d4a9d7c8f6e"
      },
      "source": [
        "%%bash\n",
        "export PATH=$PATH:/content/confluent/\n",
        "confluent environment create lab\n",
        "confluent environment list"
      ],
      "id": "military-confidence",
      "execution_count": null,
      "outputs": [
        {
          "output_type": "stream",
          "name": "stdout",
          "text": [
            "       ID      |  Name    \n",
            "---------------+----------\n",
            "  * env-12wr7z | default  \n",
            "    env-xq7odx | lab      \n"
          ]
        },
        {
          "output_type": "stream",
          "name": "stderr",
          "text": [
            "Error: CCloud backend error: 1 error occurred:\n",
            "\t* error creating account with response 409 Conflict: Environment name is already in use\n",
            "\n",
            "\n"
          ]
        }
      ]
    },
    {
      "cell_type": "code",
      "metadata": {
        "colab": {
          "base_uri": "https://localhost:8080/"
        },
        "id": "affiliated-stuart",
        "outputId": "7a30e3b1-a8f0-48ce-daa7-4ff3df5c0dc7"
      },
      "source": [
        "%%bash\n",
        "export PATH=$PATH:/content/confluent/\n",
        "confluent environment use <ccloud-env-id>\n",
        "confluent environment list"
      ],
      "id": "affiliated-stuart",
      "execution_count": null,
      "outputs": [
        {
          "output_type": "stream",
          "name": "stdout",
          "text": [
            "Now using \"env-xq7odx\" as the default (active) environment.\n",
            "       ID      |  Name    \n",
            "---------------+----------\n",
            "    env-12wr7z | default  \n",
            "  * env-xq7odx | lab      \n"
          ]
        }
      ]
    },
    {
      "cell_type": "markdown",
      "source": [
        "## Add a cluster to the environment"
      ],
      "metadata": {
        "id": "1TgSN8bBEwEp"
      },
      "id": "1TgSN8bBEwEp"
    },
    {
      "cell_type": "code",
      "metadata": {
        "colab": {
          "base_uri": "https://localhost:8080/"
        },
        "id": "experienced-connection",
        "outputId": "9c5685f6-aca0-4e80-a4d7-29d09eabbaaf"
      },
      "source": [
        "%%bash\n",
        "export PATH=$PATH:/content/confluent/\n",
        "\n",
        "confluent kafka cluster create instructor --cloud azure --region southeastasia --type basic"
      ],
      "id": "experienced-connection",
      "execution_count": null,
      "outputs": [
        {
          "output_type": "stream",
          "name": "stdout",
          "text": [
            "+---------------+---------------------------------------------------------------+\n",
            "| ID            | lkc-12dodj                                                    |\n",
            "| Name          | instructor                                                    |\n",
            "| Type          | BASIC                                                         |\n",
            "| Ingress       |                                                           100 |\n",
            "| Egress        |                                                           100 |\n",
            "| Storage       |                                                          5000 |\n",
            "| Provider      | azure                                                         |\n",
            "| Availability  | single-zone                                                   |\n",
            "| Region        | southeastasia                                                 |\n",
            "| Status        | UP                                                            |\n",
            "| Endpoint      | SASL_SSL://pkc-4j8dq.southeastasia.azure.confluent.cloud:9092 |\n",
            "| API Endpoint  | https://pkac-4r2n7.southeastasia.azure.confluent.cloud        |\n",
            "| REST Endpoint | https://pkc-4j8dq.southeastasia.azure.confluent.cloud:443     |\n",
            "+---------------+---------------------------------------------------------------+\n"
          ]
        },
        {
          "output_type": "stream",
          "name": "stderr",
          "text": [
            "It may take up to 5 minutes for the Kafka cluster to be ready.\n"
          ]
        }
      ]
    },
    {
      "cell_type": "code",
      "metadata": {
        "colab": {
          "base_uri": "https://localhost:8080/"
        },
        "id": "sacred-lexington",
        "outputId": "336424c2-e2ee-42b5-80bc-ca18d24b9151"
      },
      "source": [
        "%%bash\n",
        "export PATH=$PATH:/content/confluent/\n",
        "confluent kafka cluster list"
      ],
      "id": "sacred-lexington",
      "execution_count": null,
      "outputs": [
        {
          "output_type": "stream",
          "name": "stdout",
          "text": [
            "       Id      |    Name    | Type  | Provider |    Region     | Availability | Status  \n",
            "---------------+------------+-------+----------+---------------+--------------+---------\n",
            "    lkc-12dodj | instructor | BASIC | azure    | southeastasia | single-zone  | UP      \n"
          ]
        }
      ]
    },
    {
      "cell_type": "code",
      "source": [
        "%%bash\n",
        "export PATH=$PATH:/content/confluent/\n",
        "confluent kafka cluster use <kafka-cluster-id>\n",
        "confluent kafka cluster list"
      ],
      "metadata": {
        "colab": {
          "base_uri": "https://localhost:8080/"
        },
        "id": "3eqVonhbYoM_",
        "outputId": "fee39fa6-c682-4c9d-b982-8ffd674b5ea6"
      },
      "id": "3eqVonhbYoM_",
      "execution_count": null,
      "outputs": [
        {
          "output_type": "stream",
          "name": "stdout",
          "text": [
            "       Id      |    Name    | Type  | Provider |    Region     | Availability | Status  \n",
            "---------------+------------+-------+----------+---------------+--------------+---------\n",
            "  * lkc-12dodj | instructor | BASIC | azure    | southeastasia | single-zone  | UP      \n"
          ]
        },
        {
          "output_type": "stream",
          "name": "stderr",
          "text": [
            "Set Kafka cluster \"lkc-12dodj\" as the active cluster for environment \"env-xq7odx\".\n"
          ]
        }
      ]
    },
    {
      "cell_type": "markdown",
      "metadata": {
        "id": "corresponding-savings"
      },
      "source": [
        "## Create API Keys"
      ],
      "id": "corresponding-savings"
    },
    {
      "cell_type": "markdown",
      "source": [
        "![](https://drive.google.com/uc?export=view&id=10FV8s0ky97uqDXwb3zq8dVhVy0Z6drJX)\n",
        "\n",
        "![](https://drive.google.com/uc?export=view&id=1SxSAJVkNY7uv_CuD4l375sKcXdM9iMQm)\n",
        "\n",
        "### Note this down, you'll need it later\n",
        "\n",
        "![](https://drive.google.com/uc?export=view&id=1wpoSP4QHvtjZLRhatkpVB__5CivWB3dG)\n",
        "\n",
        "![](https://drive.google.com/uc?export=view&id=1HNqbh_STzzNlLYwQ6XuO4YLaCaB0fpCm)\n"
      ],
      "metadata": {
        "id": "DV5t3SBnf_W-"
      },
      "id": "DV5t3SBnf_W-"
    },
    {
      "cell_type": "markdown",
      "source": [
        "## The same via the Confluent Cloud CLI"
      ],
      "metadata": {
        "id": "et0Oth6k17NY"
      },
      "id": "et0Oth6k17NY"
    },
    {
      "cell_type": "code",
      "metadata": {
        "colab": {
          "base_uri": "https://localhost:8080/"
        },
        "id": "alive-stamp",
        "outputId": "52381b59-08ba-43f1-a2d3-b14450cb8e9e"
      },
      "source": [
        "%%bash\n",
        "export PATH=$PATH:/content/confluent/\n",
        "confluent api-key create --resource <kafka-cluster-id>"
      ],
      "id": "alive-stamp",
      "execution_count": null,
      "outputs": [
        {
          "output_type": "stream",
          "name": "stdout",
          "text": [
            "+---------+------------------------------------------------------------------+\n",
            "| API Key | ACDWCNN3HM34J5LL                                                 |\n",
            "| Secret  | gIC33/u6IKRR8kfPk7T17ld9OOfryu9MQK5m6Bcdq4TKdEJRWY7b5LuK/8VCCQ4f |\n",
            "+---------+------------------------------------------------------------------+\n"
          ]
        },
        {
          "output_type": "stream",
          "name": "stderr",
          "text": [
            "It may take a couple of minutes for the API key to be ready.\n",
            "Save the API key and secret. The secret is not retrievable later.\n"
          ]
        }
      ]
    },
    {
      "cell_type": "code",
      "source": [
        "%%bash\n",
        "export PATH=$PATH:/content/confluent/\n",
        "\n",
        "confluent api-key use <api-key> --resource <kafka-cluster-id>"
      ],
      "metadata": {
        "colab": {
          "base_uri": "https://localhost:8080/"
        },
        "id": "ZWv_Ll2Roia2",
        "outputId": "469bead8-f2d8-4b90-b5d4-cb3528235d7f"
      },
      "id": "ZWv_Ll2Roia2",
      "execution_count": null,
      "outputs": [
        {
          "output_type": "stream",
          "name": "stdout",
          "text": [
            "Set API Key \"ACDWCNN3HM34J5LL\" as the active API key for \"lkc-12dodj\".\n"
          ]
        }
      ]
    },
    {
      "cell_type": "markdown",
      "metadata": {
        "id": "minute-university"
      },
      "source": [
        "## Enable Confluent Cloud Schema Registry"
      ],
      "id": "minute-university"
    },
    {
      "cell_type": "markdown",
      "source": [
        "![](https://drive.google.com/uc?export=view&id=1Q2fgsuJHMcgvp3m4OIcRK0oJglc0sv8i)\n",
        "\n",
        "![](https://drive.google.com/uc?export=view&id=156-bOV6Yz0UWYwp8jnHzgUJN5VH36tid)\n",
        "\n",
        "![](https://drive.google.com/uc?export=view&id=1M2drFw6Hqfppxbz1kWcxXWgCDWUlM0-A)"
      ],
      "metadata": {
        "id": "Yn-DskqDgZyp"
      },
      "id": "Yn-DskqDgZyp"
    },
    {
      "cell_type": "markdown",
      "source": [
        "## Or via the Confluent Cloud CLI"
      ],
      "metadata": {
        "id": "-Qp91CV72Gqr"
      },
      "id": "-Qp91CV72Gqr"
    },
    {
      "cell_type": "code",
      "metadata": {
        "id": "impossible-hollywood",
        "colab": {
          "base_uri": "https://localhost:8080/"
        },
        "outputId": "e6045c8f-ff76-4e37-e140-3fc3770aa560"
      },
      "source": [
        "%%bash\n",
        "export PATH=$PATH:/content/confluent/\n",
        "\n",
        "confluent schema-registry cluster enable --cloud azure --geo apac"
      ],
      "id": "impossible-hollywood",
      "execution_count": null,
      "outputs": [
        {
          "output_type": "stream",
          "name": "stdout",
          "text": [
            "+--------------+--------------------------------------------------------+\n",
            "| Id           | lsrc-k86y6v                                            |\n",
            "| Endpoint URL | https://psrc-3n6x0.southeastasia.azure.confluent.cloud |\n",
            "+--------------+--------------------------------------------------------+\n"
          ]
        }
      ]
    },
    {
      "cell_type": "markdown",
      "source": [
        "# Let's get data into Confluent Cloud using Fully-managed Connectors"
      ],
      "metadata": {
        "id": "fuCUGJcPaIci"
      },
      "id": "fuCUGJcPaIci"
    },
    {
      "cell_type": "markdown",
      "source": [
        "## Here's a list of the Fully-managed Connectors on Confluent Cloud"
      ],
      "metadata": {
        "id": "32D94Z3mFAs7"
      },
      "id": "32D94Z3mFAs7"
    },
    {
      "cell_type": "code",
      "source": [
        "%%bash\n",
        "export PATH=$PATH:/content/confluent/\n",
        "\n",
        "confluent connect plugin list"
      ],
      "metadata": {
        "colab": {
          "base_uri": "https://localhost:8080/"
        },
        "id": "8hP4h4B7aQZy",
        "outputId": "e1cddd9a-5d16-40b5-af18-80d72f1a4fbc"
      },
      "id": "8hP4h4B7aQZy",
      "execution_count": null,
      "outputs": [
        {
          "output_type": "stream",
          "name": "stdout",
          "text": [
            "           Plugin Name          |  Type   \n",
            "--------------------------------+---------\n",
            "  ActiveMQSource                | source  \n",
            "  AzureBlobSink                 | sink    \n",
            "  AzureCognitiveSearchSink      | sink    \n",
            "  AzureDataLakeGen2Sink         | sink    \n",
            "  AzureEventHubsSource          | source  \n",
            "  AzureFunctionsSink            | sink    \n",
            "  AzureServiceBusSource         | source  \n",
            "  AzureSqlDwSink                | sink    \n",
            "  CloudWatchLogsSource          | source  \n",
            "  CosmosDbSink                  | sink    \n",
            "  CosmosDbSource                | source  \n",
            "  DatadogMetricsSink            | sink    \n",
            "  DatagenSource                 | source  \n",
            "  ElasticsearchSink             | sink    \n",
            "  GcsSource                     | source  \n",
            "  GithubSource                  | source  \n",
            "  HttpSink                      | sink    \n",
            "  IbmMQSource                   | source  \n",
            "  InfluxDB2Sink                 | sink    \n",
            "  InfluxDB2Source               | source  \n",
            "  JiraSource                    | source  \n",
            "  KinesisSource                 | source  \n",
            "  MicrosoftSqlServerSink        | sink    \n",
            "  MicrosoftSqlServerSource      | source  \n",
            "  MongoDbAtlasSink              | sink    \n",
            "  MongoDbAtlasSource            | source  \n",
            "  MqttSink                      | sink    \n",
            "  MqttSource                    | source  \n",
            "  MySqlCdcSource                | source  \n",
            "  MySqlSink                     | sink    \n",
            "  MySqlSource                   | source  \n",
            "  OracleCdcSource               | source  \n",
            "  OracleDatabaseSink            | sink    \n",
            "  OracleDatabaseSource          | source  \n",
            "  PagerDutySink                 | sink    \n",
            "  PostgresCdcSource             | source  \n",
            "  PostgresSink                  | sink    \n",
            "  PostgresSource                | source  \n",
            "  PubSubSource                  | source  \n",
            "  RabbitMQSink                  | sink    \n",
            "  RabbitMQSource                | source  \n",
            "  RedisSink                     | sink    \n",
            "  S3Source                      | source  \n",
            "  SalesforceBulkApiSource       | source  \n",
            "  SalesforceCdcSource           | source  \n",
            "  SalesforcePlatformEventSink   | sink    \n",
            "  SalesforcePlatformEventSource | source  \n",
            "  SalesforcePushTopicSource     | source  \n",
            "  SalesforceSObjectSink         | sink    \n",
            "  ServiceNowSink                | sink    \n",
            "  ServiceNowSource              | source  \n",
            "  SftpSink                      | sink    \n",
            "  SftpSource                    | source  \n",
            "  SnowflakeSink                 | sink    \n",
            "  SolaceSink                    | sink    \n",
            "  SplunkSink                    | sink    \n",
            "  SqlServerCdcSource            | source  \n",
            "  SqsSource                     | source  \n",
            "  ZendeskSource                 | source  \n"
          ]
        }
      ]
    },
    {
      "cell_type": "markdown",
      "source": [
        "## Let's use the MySQL CDC Source Connector to get data from Amazon RDS"
      ],
      "metadata": {
        "id": "0eVQRbM_FJ1U"
      },
      "id": "0eVQRbM_FJ1U"
    },
    {
      "cell_type": "markdown",
      "source": [
        "![](https://drive.google.com/uc?export=view&id=1YmuTRlpLEf_5m-tRCobuEwCIPyBfLW4C)\n",
        "\n",
        "![](https://drive.google.com/uc?export=view&id=1Tiw_ec3ZzWqhhknmNOH1IO3sISk7EQtK)\n",
        "\n",
        "![](https://drive.google.com/uc?export=view&id=1tK6T5Je0atyJ0zRG4jBhrtFg7V-FGFvF)\n",
        "\n",
        "![](https://drive.google.com/uc?export=view&id=1i4iEtkvqH4K68UqpAJJoMqsEcJuZHaiB)\n",
        "\n",
        "![](https://drive.google.com/uc?export=view&id=1PwU8FJWpuRYDWD60-aKNGPmL0wBoBSeI)\n",
        "\n",
        "![](https://drive.google.com/uc?export=view&id=1SJSMvGJZ_rvQ7WBfS3dmyEUE5nJrQzLX)\n",
        "\n",
        "![](https://drive.google.com/uc?export=view&id=1eOlMTATHmXnrfOZg6-Kyqe7EpL4SqS3b)\n",
        "\n",
        "![](https://drive.google.com/uc?export=view&id=1apKVat6aYDjCAb4hhzDSg9CUgpE5xzLk)\n",
        "\n",
        "![](https://drive.google.com/uc?export=view&id=1UTTodh-BFeL3m3uAKcnurGXNNKP8fDDG)\n",
        "\n",
        "![](https://drive.google.com/uc?export=view&id=1Il94PYI5lAChaZtqJ_3tZDJltm1rcDp4)\n",
        "\n",
        "![](https://drive.google.com/uc?export=view&id=1ZYDWT2QJA0--z_AFHJNTUGCK8G3Px1cw)\n",
        "\n",
        "![](https://drive.google.com/uc?export=view&id=1F81fIzhVblUCbRBo0hN2HU2ZUd_x6oOt)\n",
        "\n",
        "![](https://drive.google.com/uc?export=view&id=1JNrYDqhGcGBm9TtlIUnGGIQatRAe6mxN)\n",
        "\n",
        "![](https://drive.google.com/uc?export=view&id=1E2pEmxzx7zXecvo2vjqWPcSJPZtVy7mg)\n",
        "\n",
        "![](https://drive.google.com/uc?export=view&id=1PxscRJ6FA2snWi3gtME6SstBcKfVJfLn)\n",
        "\n",
        "![](https://drive.google.com/uc?export=view&id=1vOCEDjRq2YBP-wnzQQPExKcS8Q7I-Aiu)"
      ],
      "metadata": {
        "id": "NTJhpCF0bV9Z"
      },
      "id": "NTJhpCF0bV9Z"
    },
    {
      "cell_type": "markdown",
      "source": [
        "## Or create this connnector via Confluent Cloud CLI"
      ],
      "metadata": {
        "id": "rl2GmlRHdk7a"
      },
      "id": "rl2GmlRHdk7a"
    },
    {
      "cell_type": "code",
      "source": [
        "%%bash\n",
        "echo '\n",
        "{\n",
        "  \"connector.class\": \"MySqlCdcSource\",\n",
        "  \"name\": \"MySqlCdcSourceConnector_0\",\n",
        "  \"kafka.api.key\": \"<ccloud-api-key>\",\n",
        "  \"kafka.api.secret\": \"<ccloud-api-secret>\",\n",
        "  \"database.hostname\": \"<rds-db-host>\",\n",
        "  \"database.port\": \"3306\",\n",
        "  \"database.user\": \"<rds-db-user>\",\n",
        "  \"database.password\": \"<rds-db-password>\",\n",
        "  \"database.server.name\": \"lab\",\n",
        "  \"database.whitelist\": \"accounts\",\n",
        "  \"table.includelist\": \"accounts.transactions_participant_1\",\n",
        "  \"snapshot.mode\": \"initial\",\n",
        "  \"snapshot.locking.mode\": \"none\",\n",
        "  \"output.data.format\": \"AVRO\",\n",
        "  \"tasks.max\": \"1\"\n",
        "}\n",
        "' > cdc_source_connector.config"
      ],
      "metadata": {
        "id": "61XojCZ3bBrw"
      },
      "id": "61XojCZ3bBrw",
      "execution_count": null,
      "outputs": []
    },
    {
      "cell_type": "code",
      "source": [
        "%%bash\n",
        "export PATH=$PATH:/content/confluent/\n",
        "\n",
        "cat cdc_source_connector.config"
      ],
      "metadata": {
        "colab": {
          "base_uri": "https://localhost:8080/"
        },
        "id": "0hFaU5wVanyO",
        "outputId": "bb843aac-dc8f-4728-e825-251ad44bedda"
      },
      "id": "0hFaU5wVanyO",
      "execution_count": null,
      "outputs": [
        {
          "output_type": "stream",
          "name": "stdout",
          "text": [
            "\n",
            "{\n",
            "  \"connector.class\": \"MySqlCdcSource\",\n",
            "  \"name\": \"MySqlCdcSourceConnector_0\",\n",
            "  \"kafka.api.key\": \"<ccloud-api-key>\",\n",
            "  \"kafka.api.secret\": \"<ccloud-api-secret>\",\n",
            "  \"database.hostname\": \"<rds-db-host>\",\n",
            "  \"database.port\": \"3306\",\n",
            "  \"database.user\": \"<rds-db-user>\",\n",
            "  \"database.password\": \"<rds-db-password>\",\n",
            "  \"database.server.name\": \"lab\",\n",
            "  \"database.whitelist\": \"accounts\",\n",
            "  \"table.includelist\": \"accounts.transactions_participant_1\",\n",
            "  \"snapshot.mode\": \"initial\",\n",
            "  \"snapshot.locking.mode\": \"none\",\n",
            "  \"output.data.format\": \"AVRO\",\n",
            "  \"tasks.max\": \"1\"\n",
            "}\n",
            "\n"
          ]
        }
      ]
    },
    {
      "cell_type": "code",
      "source": [
        "%%bash\n",
        "export PATH=$PATH:/content/confluent/\n",
        "\n",
        "confluent connect create --config cdc_source_connector.config --cluster <kafka-cluster-id>"
      ],
      "metadata": {
        "colab": {
          "base_uri": "https://localhost:8080/"
        },
        "id": "Y8HdW5_8ilBh",
        "outputId": "6c91e10e-110a-4705-d76e-46b8fa91812b"
      },
      "id": "Y8HdW5_8ilBh",
      "execution_count": null,
      "outputs": [
        {
          "output_type": "stream",
          "name": "stdout",
          "text": [
            "Created connector MySqlCdcSourceConnector_0 lcc-81qj70\n"
          ]
        }
      ]
    },
    {
      "cell_type": "code",
      "source": [
        "%%bash\n",
        "export PATH=$PATH:/content/confluent/\n",
        "\n",
        "confluent connect list"
      ],
      "metadata": {
        "colab": {
          "base_uri": "https://localhost:8080/"
        },
        "id": "MwnT4_B1nxAq",
        "outputId": "b067576e-7293-4a57-bf9b-9cf8729491c5"
      },
      "id": "MwnT4_B1nxAq",
      "execution_count": null,
      "outputs": [
        {
          "output_type": "stream",
          "name": "stdout",
          "text": [
            "      ID     |           Name            | Status  |  Type  | Trace  \n",
            "-------------+---------------------------+---------+--------+--------\n",
            "  lcc-81qj70 | MySqlCdcSourceConnector_0 | RUNNING | source |        \n"
          ]
        }
      ]
    },
    {
      "cell_type": "markdown",
      "source": [
        "## Verify that the connector is deployed and RUNNING"
      ],
      "metadata": {
        "id": "puLJfA4AFftk"
      },
      "id": "puLJfA4AFftk"
    },
    {
      "cell_type": "code",
      "source": [
        "%%bash\n",
        "export PATH=$PATH:/content/confluent/\n",
        "\n",
        "confluent connect describe <connector-id>"
      ],
      "metadata": {
        "colab": {
          "base_uri": "https://localhost:8080/"
        },
        "id": "LyhzJ8XBoElg",
        "outputId": "46a62d64-7595-4e57-95e6-afc51cfb4ab8"
      },
      "id": "LyhzJ8XBoElg",
      "execution_count": null,
      "outputs": [
        {
          "output_type": "stream",
          "name": "stdout",
          "text": [
            "Connector Details\n",
            "+--------+---------------------------+\n",
            "| ID     | lcc-81qj70                |\n",
            "| Name   | MySqlCdcSourceConnector_0 |\n",
            "| Status | RUNNING                   |\n",
            "| Type   | source                    |\n",
            "| Trace  |                           |\n",
            "+--------+---------------------------+\n",
            "\n",
            "\n",
            "Task Level Details\n",
            "  TaskId |  State   \n",
            "---------+----------\n",
            "       0 | RUNNING  \n",
            "\n",
            "\n",
            "Configuration Details\n",
            "         Config         |                             Value                              \n",
            "------------------------+----------------------------------------------------------------\n",
            "  kafka.region          | southeastasia                                                  \n",
            "  connector.class       | MySqlCdcSource                                                 \n",
            "  kafka.api.key         | ****************                                               \n",
            "  database.hostname     | lab.cqzooevua9cx.ap-southeast-1.rds.amazonaws.com              \n",
            "  database.server.name  | rds                                                            \n",
            "  database.user         | admin                                                          \n",
            "  kafka.api.secret      | ****************                                               \n",
            "  kafka.endpoint        | SASL_SSL://pkc-4j8dq.southeastasia.azure.confluent.cloud:9092  \n",
            "  table.includelist     | accounts.transactions                                          \n",
            "  cloud.environment     | prod                                                           \n",
            "  cloud.provider        | azure                                                          \n",
            "  tasks.max             |                                                             1  \n",
            "  output.data.format    | AVRO                                                           \n",
            "  snapshot.locking.mode | none                                                           \n",
            "  database.port         |                                                          3306  \n",
            "  name                  | MySqlCdcSourceConnector_0                                      \n",
            "  snapshot.mode         | initial                                                        \n",
            "  database.password     | ****************                                               \n",
            "  database.whitelist    | accounts                                                       \n"
          ]
        }
      ]
    },
    {
      "cell_type": "markdown",
      "source": [
        "## Do we see data yet?"
      ],
      "metadata": {
        "id": "xz7GIUKkFtP9"
      },
      "id": "xz7GIUKkFtP9"
    },
    {
      "cell_type": "code",
      "source": [
        "%%bash\n",
        "export PATH=$PATH:/content/confluent/\n",
        "\n",
        "confluent kafka topic list"
      ],
      "metadata": {
        "colab": {
          "base_uri": "https://localhost:8080/"
        },
        "id": "ovok1-XZoJG1",
        "outputId": "1cd4e9cc-9ee4-46cc-dc56-e3178258e7d3"
      },
      "id": "ovok1-XZoJG1",
      "execution_count": null,
      "outputs": [
        {
          "output_type": "stream",
          "name": "stdout",
          "text": [
            "              Name               \n",
            "---------------------------------\n",
            "  account_balance_participant_1  \n"
          ]
        }
      ]
    },
    {
      "cell_type": "code",
      "source": [
        "%%bash\n",
        "export PATH=$PATH:/content/confluent/\n",
        "\n",
        "confluent kafka topic consume -b lab.accounts.transactions_participant_1"
      ],
      "metadata": {
        "colab": {
          "base_uri": "https://localhost:8080/"
        },
        "id": "2K48Y0vIoSb9",
        "outputId": "4bbd5f75-4096-4acf-8e84-d3adb3aea2a3"
      },
      "id": "2K48Y0vIoSb9",
      "execution_count": null,
      "outputs": [
        {
          "output_type": "stream",
          "name": "stderr",
          "text": [
            "Error: accepts 1 arg(s), received 0\n",
            "Usage:\n",
            "  confluent kafka topic consume <topic> [flags]\n",
            "\n",
            "Examples:\n",
            "Consume items from the \"my_topic\" topic and press \"Ctrl+C\" to exit.\n",
            "\n",
            "  $ confluent kafka topic consume -b my_topic\n",
            "\n",
            "Flags:\n",
            "      --group string           Consumer group ID. (default \"confluent_cli_consumer_9bba1dce-4cc1-41f9-b738-92a32081d170\")\n",
            "  -b, --from-beginning         Consume from beginning of the topic.\n",
            "      --value-format string    Format of message value as string, avro, protobuf, or jsonschema. Note that schema references are not supported for avro. (default \"string\")\n",
            "      --print-key              Print key of the message.\n",
            "      --delimiter string       The delimiter separating each key and value. (default \"\\t\")\n",
            "      --context-name string    The Schema Registry context under which to lookup schema ID.\n",
            "      --sr-endpoint string     Endpoint for Schema Registry cluster.\n",
            "      --sr-api-key string      Schema registry API key.\n",
            "      --sr-api-secret string   Schema registry API key secret.\n",
            "      --api-key string         API key.\n",
            "      --api-secret string      API key secret.\n",
            "      --cluster string         Kafka cluster ID.\n",
            "      --context string         CLI context name.\n",
            "      --environment string     Environment ID.\n",
            "\n",
            "Global Flags:\n",
            "  -h, --help            Show help for this command.\n",
            "  -v, --verbose count   Increase verbosity (-v for warn, -vv for info, -vvv for debug, -vvvv for trace).\n",
            "\n"
          ]
        }
      ]
    },
    {
      "cell_type": "markdown",
      "source": [
        "### Note: If the above does not display data, fret not, go into your Confluent Cloud account on the browser and navigate to the Topics tab to verify."
      ],
      "metadata": {
        "id": "8sKEci77Fwn0"
      },
      "id": "8sKEci77Fwn0"
    },
    {
      "cell_type": "markdown",
      "source": [
        "![](https://drive.google.com/uc?export=view&id=1vOCEDjRq2YBP-wnzQQPExKcS8Q7I-Aiu)"
      ],
      "metadata": {
        "id": "7roeV7bXdfQp"
      },
      "id": "7roeV7bXdfQp"
    },
    {
      "cell_type": "markdown",
      "source": [
        "# Create a Stream Processing Pipeline using ksqlDB in Confluent Cloud"
      ],
      "metadata": {
        "id": "hVX2KujEps0Q"
      },
      "id": "hVX2KujEps0Q"
    },
    {
      "cell_type": "markdown",
      "source": [
        "![](https://drive.google.com/uc?export=view&id=1COseBm9yanzSXqwdTBUUtq58Wjg0zTEd)\n",
        "\n",
        "![](https://drive.google.com/uc?export=view&id=16u3oK8_GtXvSb1MAd9vAU13XULBZR5sO)\n",
        "\n",
        "![](https://drive.google.com/uc?export=view&id=1ck6RvVTpFraocvQxLur7qSAfr0-q2SL1)\n",
        "\n",
        "![](https://drive.google.com/uc?export=view&id=1skLyNedpgSi8mtBpxO6qubbeBiOH2oPF)"
      ],
      "metadata": {
        "id": "kl9qfDG4P1J6"
      },
      "id": "kl9qfDG4P1J6"
    },
    {
      "cell_type": "markdown",
      "source": [
        "## And, if you prefer Confluent Cloud CLI instead"
      ],
      "metadata": {
        "id": "_qmTNhYZQXQC"
      },
      "id": "_qmTNhYZQXQC"
    },
    {
      "cell_type": "code",
      "source": [
        "%%bash\n",
        "export PATH=$PATH:/content/confluent/\n",
        "\n",
        "confluent ksql app create account_balance --cluster <kafka-cluster-id> --api-key <ccloud-api-key> --api-secret <ccloud-api-secret> --csu 1"
      ],
      "metadata": {
        "colab": {
          "base_uri": "https://localhost:8080/"
        },
        "id": "kIHLQaOVp-yP",
        "outputId": "eadcc39c-e985-4488-85d7-2d59711e0790"
      },
      "id": "kIHLQaOVp-yP",
      "execution_count": null,
      "outputs": [
        {
          "output_type": "stream",
          "name": "stdout",
          "text": [
            "+--------------+--------------------------------------------------------------+\n",
            "| Id           | lksqlc-gqxyy3                                                |\n",
            "| Name         | account_balance                                              |\n",
            "| Topic Prefix | pksqlc-w2dpm                                                 |\n",
            "| Kafka        | lkc-12dodj                                                   |\n",
            "| Storage      |                                                          125 |\n",
            "| Endpoint     | https://pksqlc-w2dpm.southeastasia.azure.confluent.cloud:443 |\n",
            "| Status       | PROVISIONING                                                 |\n",
            "+--------------+--------------------------------------------------------------+\n"
          ]
        },
        {
          "output_type": "stream",
          "name": "stderr",
          "text": [
            "In the next major release, the `confluent ksql app` commands will be removed. Use the equivalent `confluent ksql cluster` commands instead.\n"
          ]
        }
      ]
    },
    {
      "cell_type": "code",
      "source": [
        "%%bash\n",
        "export PATH=$PATH:/content/confluent/\n",
        "\n",
        "confluent ksql app list"
      ],
      "metadata": {
        "colab": {
          "base_uri": "https://localhost:8080/"
        },
        "id": "e8N0Akojq3Pv",
        "outputId": "5fec5401-2118-4fe9-f8fb-8f99ed1cb10e"
      },
      "id": "e8N0Akojq3Pv",
      "execution_count": null,
      "outputs": [
        {
          "output_type": "stream",
          "name": "stdout",
          "text": [
            "       ID       |      Name       | Topic Prefix |   Kafka    | Storage |                           Endpoint                           | Status  \n",
            "----------------+-----------------+--------------+------------+---------+--------------------------------------------------------------+---------\n",
            "  lksqlc-gqxyy3 | account_balance | pksqlc-w2dpm | lkc-12dodj |     125 | https://pksqlc-w2dpm.southeastasia.azure.confluent.cloud:443 | UP      \n"
          ]
        },
        {
          "output_type": "stream",
          "name": "stderr",
          "text": [
            "In the next major release, the `confluent ksql app` commands will be removed. Use the equivalent `confluent ksql cluster` commands instead.\n"
          ]
        }
      ]
    },
    {
      "cell_type": "code",
      "source": [
        "%%bash\n",
        "export PATH=$PATH:/content/confluent/\n",
        "\n",
        "confluent ksql app describe <ksqldb-cluster-id>"
      ],
      "metadata": {
        "colab": {
          "base_uri": "https://localhost:8080/"
        },
        "id": "N2zUPsZHrDis",
        "outputId": "f8ee16ae-d2f1-4a08-b16f-177e4e4bcce7"
      },
      "id": "N2zUPsZHrDis",
      "execution_count": null,
      "outputs": [
        {
          "output_type": "stream",
          "name": "stdout",
          "text": [
            "+--------------+--------------------------------------------------------------+\n",
            "| Id           | lksqlc-gqxyy3                                                |\n",
            "| Name         | account_balance                                              |\n",
            "| Topic Prefix | pksqlc-w2dpm                                                 |\n",
            "| Kafka        | lkc-12dodj                                                   |\n",
            "| Storage      |                                                          125 |\n",
            "| Endpoint     | https://pksqlc-w2dpm.southeastasia.azure.confluent.cloud:443 |\n",
            "| Status       | UP                                                           |\n",
            "+--------------+--------------------------------------------------------------+\n"
          ]
        },
        {
          "output_type": "stream",
          "name": "stderr",
          "text": [
            "In the next major release, the `confluent ksql app` commands will be removed. Use the equivalent `confluent ksql cluster` commands instead.\n"
          ]
        }
      ]
    },
    {
      "cell_type": "markdown",
      "source": [
        "## Let's run these KSQL statements in your ksqlDB editor on Confluent Cloud\n",
        "\n",
        "### Check the ksqlDB cluster is up and running.\n",
        "\n",
        "![](https://drive.google.com/uc?export=view&id=1DbRhv-ve7lIQ_xViuiVstsEODPZKlUQd)\n",
        "\n",
        "### Click the Cluster name to get to the ksqlDB editor.\n",
        "\n",
        "![](https://drive.google.com/uc?export=view&id=1kHbn2LqnDSwmb8BByY2KcdYra3b5ISIp)\n",
        "\n",
        "*   create stream accounts_transactions with (kafka_topic='lab.accounts.transactions_participant_1', value_format='avro');\n",
        "\n",
        "*   create stream transaction_type_check with (kafka_topic='transaction_type_check', format='json') as select account_id, case when transaction_type = 'DEPOSIT' then amount else -amount end as amount from accounts_transactions where __DELETED = 'false' EMIT CHANGES;\n",
        "\n",
        "*   create table account_balance with (kafka_topic='account_balance_participant_1', format='json') as\n",
        "select account_id, sum(amount) as account_balance from transaction_type_check as account_balance group by account_id emit changes;\n"
      ],
      "metadata": {
        "id": "FnelGfgHutOt"
      },
      "id": "FnelGfgHutOt"
    },
    {
      "cell_type": "markdown",
      "source": [
        "### Once you run the above statements, click on Flow in the ksqlDB editor to view the stream processing pipeline you just created.\n",
        "\n",
        "![](https://drive.google.com/uc?export=view&id=11RdI7c2t4na8fcvPRSkzCwzOlkojf3Kw)"
      ],
      "metadata": {
        "id": "7O45crJ0x0NN"
      },
      "id": "7O45crJ0x0NN"
    },
    {
      "cell_type": "markdown",
      "source": [
        "# Time to link clusters and share data\n",
        "\n",
        "### Note down your **kafka cluster id** and **bootstrap server** details that you want to share data from, along with the **ccloud api key** and **ccloud api secret** to provide the instructor\n",
        "\n",
        "Below are the steps the instructor will run to get data from your cluster"
      ],
      "metadata": {
        "id": "QvNLkLZfaMUP"
      },
      "id": "QvNLkLZfaMUP"
    },
    {
      "cell_type": "code",
      "source": [
        "%%bash\n",
        "export PATH=$PATH:/content/confluent/\n",
        "\n",
        "confluent kafka link create share-data-participant-1 --cluster <instructor-cluster-id> --source-cluster-id <participant-cluster-id> --source-bootstrap-server <participant-bootstrap-server>:9092 --source-api-key <participant-api-key> --source-api-secret <participant-api-secret>"
      ],
      "metadata": {
        "colab": {
          "base_uri": "https://localhost:8080/"
        },
        "id": "WTAQPfaJFts2",
        "outputId": "f02caafc-852b-41e7-d733-37e7a525fe33"
      },
      "id": "WTAQPfaJFts2",
      "execution_count": null,
      "outputs": [
        {
          "output_type": "stream",
          "name": "stdout",
          "text": [
            "Created cluster link \"share-data-participant-1\".\n"
          ]
        }
      ]
    },
    {
      "cell_type": "markdown",
      "source": [
        "![](https://drive.google.com/uc?export=view&id=10ySwgEoJzGcNbvE_0DQiO9gtIi-vY193)\n",
        "\n",
        "![](https://drive.google.com/uc?export=view&id=1Do_uzwi3RjN89RAsPCNyNI1xpK1FrI6L)"
      ],
      "metadata": {
        "id": "d44_pnd_TYwi"
      },
      "id": "d44_pnd_TYwi"
    },
    {
      "cell_type": "code",
      "source": [
        "%%bash\n",
        "export PATH=$PATH:/content/confluent/\n",
        "\n",
        "# confluent api-key store <instructor-api-key> <instructor-api-secret>\n",
        "confluent api-key use <instructor-api-key> --resource <instructor-kafka-cluster-id>\n",
        "confluent kafka mirror create account_balance_participant_1 --cluster <instructor-kafka-cluster-id> --link share-data-participant-1"
      ],
      "metadata": {
        "colab": {
          "base_uri": "https://localhost:8080/"
        },
        "id": "QnYzSDdYGhkm",
        "outputId": "d3af27fe-0e55-41ec-f85f-a3cba9e0e038"
      },
      "id": "QnYzSDdYGhkm",
      "execution_count": null,
      "outputs": [
        {
          "output_type": "stream",
          "name": "stdout",
          "text": [
            "Set API Key \"HRJB575CUHEDBYXW\" as the active API key for \"lkc-228qv2\".\n",
            "Created mirror topic \"account_balance_participant_1\".\n"
          ]
        }
      ]
    },
    {
      "cell_type": "markdown",
      "source": [
        "![](https://drive.google.com/uc?export=view&id=1x7sTXH4X-8PZlospPiShJimjEIZj6klX)\n",
        "\n",
        "![](https://drive.google.com/uc?export=view&id=1eINuwC5M48Df9wFdH5ewsubpaDe_Tsbj)\n",
        "\n",
        "![](https://drive.google.com/uc?export=view&id=1ndH_ereDHs3m5yMSPWE5jGfk6kl0jU27)\n",
        "\n",
        "![](https://drive.google.com/uc?export=view&id=1lorygmuOLhmusqSP1xGIKSxtmrJAXBBL)\n",
        "\n",
        "![](https://drive.google.com/uc?export=view&id=1Lv34Mu2-L1l4-AInptt7blwf5NPZrPyn)\n",
        "\n",
        "![](https://drive.google.com/uc?export=view&id=1TNRfloEIXi_fbsMhrf8m4EjUBFwjn8s_)"
      ],
      "metadata": {
        "id": "d3u95-KtNPBy"
      },
      "id": "d3u95-KtNPBy"
    },
    {
      "cell_type": "markdown",
      "source": [
        "### Once you're done, the instructor will share the centralised Confluent Cloud Live Dashboard and Notifications\n",
        "\n",
        "![](https://drive.google.com/uc?export=view&id=1WAl83xNgG4RVg1MNZn3G-K-F9D2MZ8PB)"
      ],
      "metadata": {
        "id": "xFqFruTs_Cmg"
      },
      "id": "xFqFruTs_Cmg"
    },
    {
      "cell_type": "markdown",
      "source": [
        "# Bonus Section - Payments App"
      ],
      "metadata": {
        "id": "9RQB3iZ_X8h_"
      },
      "id": "9RQB3iZ_X8h_"
    },
    {
      "cell_type": "markdown",
      "source": [
        "### Create a payments topic in your Confluent Cloud cluster, and run the following KSQL statements in the ksqlDB editor. (You should know by now where to find it)\n",
        "\n",
        "*   create stream payments (account_id varchar, amount double) with (kafka_topic='payments', value_format='json');\n",
        "*   create stream payments_check with (kafka_topic='transaction_type_check', format='json') as select account_id, amount from payments emit changes;\n",
        "\n",
        "### Similar to before, check the Flow view after running the above KSQL statements to see how you integrated payments into your transactions stream processing pipeline.\n",
        "\n",
        "![](https://drive.google.com/uc?export=view&id=1nO428ebgEbzCIHXVWWAf-SB4nDNjdVlW)"
      ],
      "metadata": {
        "id": "3ouK-BCPY0cB"
      },
      "id": "3ouK-BCPY0cB"
    },
    {
      "cell_type": "markdown",
      "source": [
        "### Access the Payments App URL provided by the instructor\n",
        "\n",
        "### Talk to another participant and get their details to send them a gift!\n",
        "\n",
        "![](https://drive.google.com/uc?export=view&id=1gpZIMKacBV8zXUSu8AohZVOPZ6YlRLGV)\n",
        "\n",
        "### Ask them to check if they got the gift (payments topic in their Confluent Cloud cluster)"
      ],
      "metadata": {
        "id": "TxRzItn8X_Vr"
      },
      "id": "TxRzItn8X_Vr"
    },
    {
      "cell_type": "markdown",
      "metadata": {
        "id": "inclusive-minority"
      },
      "source": [
        "# Cleanup your Confluent Cloud Environment"
      ],
      "id": "inclusive-minority"
    },
    {
      "cell_type": "code",
      "metadata": {
        "id": "imposed-cooking",
        "outputId": "2dabae98-a9b0-45c5-9969-1249ef2d4a3e"
      },
      "source": [
        "%%bash\n",
        "export PATH=$PATH:/content/confluent/\n",
        "\n",
        "confluent environment delete <ccloud-env-id>"
      ],
      "id": "imposed-cooking",
      "execution_count": null,
      "outputs": [
        {
          "output_type": "stream",
          "text": [
            "Deleted environment \"env-9gyvm\".\n"
          ],
          "name": "stderr"
        }
      ]
    }
  ]
}