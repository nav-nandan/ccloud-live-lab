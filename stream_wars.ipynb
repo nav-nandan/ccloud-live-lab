{
  "nbformat": 4,
  "nbformat_minor": 0,
  "metadata": {
    "colab": {
      "provenance": [],
      "authorship_tag": "ABX9TyPD8ifRz3X9VbzXC0F3YXuf",
      "include_colab_link": true
    },
    "kernelspec": {
      "name": "python3",
      "display_name": "Python 3"
    },
    "language_info": {
      "name": "python"
    }
  },
  "cells": [
    {
      "cell_type": "markdown",
      "metadata": {
        "id": "view-in-github",
        "colab_type": "text"
      },
      "source": [
        "<a href=\"https://colab.research.google.com/github/nav-nandan/ccloud-live-lab/blob/master/stream_wars.ipynb\" target=\"_parent\"><img src=\"https://colab.research.google.com/assets/colab-badge.svg\" alt=\"Open In Colab\"/></a>"
      ]
    },
    {
      "cell_type": "markdown",
      "source": [
        "# Stream Wars\n",
        "\n",
        "## A simple game in order to get familiar with Confluent Cloud. The team with the maximum sustained ingestion throughput wins.\n",
        "\n",
        "![](https://drive.google.com/uc?export=view&id=1HW5K7kydLN-Goh-_fSS6WbPJIR6DMsWt)"
      ],
      "metadata": {
        "id": "JJj4T7Kyxp7L"
      }
    },
    {
      "cell_type": "markdown",
      "source": [
        "# Get Confluent Cloud CLI Utilities"
      ],
      "metadata": {
        "id": "vgQ1zNCOJIzy"
      }
    },
    {
      "cell_type": "code",
      "execution_count": null,
      "metadata": {
        "id": "igj5N1BJ94VP"
      },
      "outputs": [],
      "source": [
        "%%bash\n",
        "curl -O https://packages.confluent.io/archive/7.6/confluent-7.6.2.tar.gz\n",
        "tar -xzvf confluent-7.6.2.tar.gz"
      ]
    },
    {
      "cell_type": "code",
      "source": [
        "%%bash\n",
        "export PATH=$PATH:/content/confluent-7.6.2/bin\n",
        "confluent --help"
      ],
      "metadata": {
        "colab": {
          "base_uri": "https://localhost:8080/"
        },
        "id": "WfbyrCYY_5Iw",
        "outputId": "c2092168-ff48-4d1d-b427-4af0822402b7"
      },
      "execution_count": null,
      "outputs": [
        {
          "output_type": "stream",
          "name": "stderr",
          "text": [
            "Manage your Confluent Cloud or Confluent Platform. Log in to see all available commands.\n",
            "\n",
            "Usage:\n",
            "  confluent [command]\n",
            "\n",
            "Available Commands:\n",
            "  cloud-signup    Sign up for Confluent Cloud.\n",
            "  completion      Print shell completion code.\n",
            "  configuration   Configure the Confluent CLI.\n",
            "  connect         Manage Kafka Connect.\n",
            "  context         Manage CLI configuration contexts.\n",
            "  help            Help about any command\n",
            "  kafka           Manage Apache Kafka.\n",
            "  local           Manage a local Confluent Platform development environment.\n",
            "  login           Log in to Confluent Cloud or Confluent Platform.\n",
            "  logout          Log out of Confluent Cloud or Confluent Platform.\n",
            "  plugin          Manage Confluent plugins.\n",
            "  prompt          Add Confluent CLI context to your terminal prompt.\n",
            "  secret          Manage secrets for Confluent Platform.\n",
            "  shell           Start an interactive shell.\n",
            "  update          Update the Confluent CLI.\n",
            "  version         Show version of the Confluent CLI.\n",
            "\n",
            "Flags:\n",
            "      --version         Show version of the Confluent CLI.\n",
            "  -h, --help            Show help for this command.\n",
            "      --unsafe-trace    Equivalent to -vvvv, but also log HTTP requests and responses which might contain plaintext secrets.\n",
            "  -v, --verbose count   Increase verbosity (-v for warn, -vv for info, -vvv for debug, -vvvv for trace).\n",
            "\n",
            "Use \"confluent [command] --help\" for more information about a command.\n"
          ]
        }
      ]
    },
    {
      "cell_type": "markdown",
      "source": [
        "# Verify Login to Confluent Cloud"
      ],
      "metadata": {
        "id": "qUChJ3zfJRtK"
      }
    },
    {
      "cell_type": "code",
      "source": [
        "%%bash\n",
        "export PATH=$PATH:/content/confluent-7.6.2/bin\n",
        "export CONFLUENT_CLOUD_EMAIL=<email>\n",
        "export CONFLUENT_CLOUD_PASSWORD=<password>\n",
        "confluent login --organization-id <ccloud-org-id> --save\n",
        "confluent environment list"
      ],
      "metadata": {
        "id": "KCMFwFW6-h48"
      },
      "execution_count": null,
      "outputs": []
    },
    {
      "cell_type": "code",
      "source": [
        "%%bash\n",
        "export PATH=$PATH:/content/confluent-7.6.2/bin\n",
        "confluent environment use env-0d6g55\n",
        "confluent kafka cluster list"
      ],
      "metadata": {
        "colab": {
          "base_uri": "https://localhost:8080/"
        },
        "id": "PPKyVIG7A8eo",
        "outputId": "9638b883-611b-4455-b1f6-e96630af8c85"
      },
      "execution_count": null,
      "outputs": [
        {
          "output_type": "stream",
          "name": "stdout",
          "text": [
            "Using environment \"env-0d6g55\".\n",
            "  Current |     ID     |    Name     | Type  | Provider |     Region     | Availability | Network | Status  \n",
            "----------+------------+-------------+-------+----------+----------------+--------------+---------+---------\n",
            "  *       | lkc-n03vvk | stream_wars | BASIC | aws      | ap-southeast-1 |              |         | UP      \n"
          ]
        }
      ]
    },
    {
      "cell_type": "markdown",
      "source": [
        "# Get Confluent Cloud Cluster Endpoint"
      ],
      "metadata": {
        "id": "GQBastOoKM2-"
      }
    },
    {
      "cell_type": "code",
      "source": [
        "%%bash\n",
        "export PATH=$PATH:/content/confluent-7.6.2/bin\n",
        "confluent kafka cluster use lkc-n03vvk\n",
        "confluent kafka cluster list\n",
        "confluent kafka cluster describe"
      ],
      "metadata": {
        "colab": {
          "base_uri": "https://localhost:8080/"
        },
        "id": "JvCHqwusBrjg",
        "outputId": "fb4b8df3-3dc6-4bb3-fbfa-cdf1d5c7b76f"
      },
      "execution_count": null,
      "outputs": [
        {
          "output_type": "stream",
          "name": "stdout",
          "text": [
            "  Current |     ID     |    Name     | Type  | Provider |     Region     | Availability | Network | Status  \n",
            "----------+------------+-------------+-------+----------+----------------+--------------+---------+---------\n",
            "  *       | lkc-n03vvk | stream_wars | BASIC | aws      | ap-southeast-1 |              |         | UP      \n",
            "+----------------------+--------------------------------------------------------------+\n",
            "| Current              | true                                                         |\n",
            "| ID                   | lkc-n03vvk                                                   |\n",
            "| Name                 | stream_wars                                                  |\n",
            "| Type                 | BASIC                                                        |\n",
            "| Ingress Limit (MB/s) | 250                                                          |\n",
            "| Egress Limit (MB/s)  | 750                                                          |\n",
            "| Storage              | 5 TB                                                         |\n",
            "| Provider             | aws                                                          |\n",
            "| Region               | ap-southeast-1                                               |\n",
            "| Availability         |                                                              |\n",
            "| Status               | UP                                                           |\n",
            "| Endpoint             | SASL_SSL://pkc-312o0.ap-southeast-1.aws.confluent.cloud:9092 |\n",
            "| REST Endpoint        | https://pkc-312o0.ap-southeast-1.aws.confluent.cloud:443     |\n",
            "+----------------------+--------------------------------------------------------------+\n"
          ]
        },
        {
          "output_type": "stream",
          "name": "stderr",
          "text": [
            "Set Kafka cluster \"lkc-n03vvk\" as the active cluster for environment \"env-0d6g55\".\n"
          ]
        }
      ]
    },
    {
      "cell_type": "markdown",
      "source": [
        "# Create Confluent Cloud API Key"
      ],
      "metadata": {
        "id": "yb7KouQaKFbK"
      }
    },
    {
      "cell_type": "code",
      "source": [
        "%%bash\n",
        "export PATH=$PATH:/content/confluent-7.6.2/bin\n",
        "confluent api-key create --resource lkc-n03vvk"
      ],
      "metadata": {
        "id": "2p9A8nIKCr5w"
      },
      "execution_count": null,
      "outputs": []
    },
    {
      "cell_type": "markdown",
      "source": [
        "# Create a Kafka Topic in the Confluent Cloud Cluster\n",
        "## (Hint: Use topic config to set up topic to be able to stream more data)"
      ],
      "metadata": {
        "id": "lhupfmktKlUg"
      }
    },
    {
      "cell_type": "code",
      "source": [
        "%%bash\n",
        "export PATH=$PATH:/content/confluent-7.6.2/bin\n",
        "confluent api-key use <ccloud-api-key> --resource lkc-n03vvk\n",
        "confluent kafka topic create teamA --partitions 5 --cluster lkc-n03vvk"
      ],
      "metadata": {
        "colab": {
          "base_uri": "https://localhost:8080/"
        },
        "id": "rqWbMnOxDI24",
        "outputId": "289e9965-62fa-4a3d-c328-a81695c2bf13"
      },
      "execution_count": null,
      "outputs": [
        {
          "output_type": "stream",
          "name": "stdout",
          "text": [
            "Using API Key \"BGLNYK4WDCZOQM3Q\".\n",
            "Created topic \"teamA\".\n"
          ]
        }
      ]
    },
    {
      "cell_type": "code",
      "source": [
        "%%bash\n",
        "export PATH=$PATH:/content/confluent-7.6.2/bin\n",
        "confluent kafka topic list --cluster lkc-n03vvk"
      ],
      "metadata": {
        "colab": {
          "base_uri": "https://localhost:8080/"
        },
        "id": "L23tQ2-iDonP",
        "outputId": "2b19dac4-8962-4d50-e412-4459acbb5ece"
      },
      "execution_count": null,
      "outputs": [
        {
          "output_type": "stream",
          "name": "stdout",
          "text": [
            "  Name  | Internal | Replication Factor | Partition Count  \n",
            "--------+----------+--------------------+------------------\n",
            "  teamA | false    |                  3 |               5  \n"
          ]
        }
      ]
    },
    {
      "cell_type": "markdown",
      "source": [
        "# Set Producer Config for use with Confluent Cloud"
      ],
      "metadata": {
        "id": "cVmAn1abKXMt"
      }
    },
    {
      "cell_type": "code",
      "source": [
        "%%bash\n",
        "echo \"\"\"\n",
        "client.id=teamA-producer-1\n",
        "bootstrap.servers=pkc-312o0.ap-southeast-1.aws.confluent.cloud:9092\n",
        "security.protocol=SASL_SSL\n",
        "sasl.mechanism=PLAIN\n",
        "sasl.jaas.config=org.apache.kafka.common.security.plain.PlainLoginModule required username='<ccloud-api-key>' password='<ccloud-api-secret>';\n",
        "\"\"\" > ccloud.properties\n",
        "cat ccloud.properties"
      ],
      "metadata": {
        "colab": {
          "base_uri": "https://localhost:8080/"
        },
        "id": "HjUR8hbNGna9",
        "outputId": "97f07622-cc69-410b-cd96-743e70d3cea9"
      },
      "execution_count": null,
      "outputs": [
        {
          "output_type": "stream",
          "name": "stdout",
          "text": [
            "\n",
            "client.id=teamA-producer-1\n",
            "bootstrap.servers=pkc-312o0.ap-southeast-1.aws.confluent.cloud:9092\n",
            "security.protocol=SASL_SSL\n",
            "sasl.mechanism=PLAIN\n",
            "sasl.jaas.config=org.apache.kafka.common.security.plain.PlainLoginModule required username='<cclouda-api-key>' password='<ccloud-api-secret>';\n",
            "\n"
          ]
        }
      ]
    },
    {
      "cell_type": "markdown",
      "source": [
        "# Kafka Producer Perf Tool to Stream Data into Confluent Cloud\n",
        "## (Hint: Get creative with the producer-perf config to stream more data)"
      ],
      "metadata": {
        "id": "7Onq1808KTBp"
      }
    },
    {
      "cell_type": "code",
      "source": [
        "%%bash\n",
        "export PATH=$PATH:/content/confluent-7.6.2/bin\n",
        "kafka-producer-perf-test --topic teamA --num-records 1000000 --record-size 100 --throughput 1 --producer.config ccloud.properties"
      ],
      "metadata": {
        "colab": {
          "base_uri": "https://localhost:8080/"
        },
        "id": "dmxNzy4bB1bB",
        "outputId": "3b9b2f38-9f5d-4843-f03e-7bb71c46974f"
      },
      "execution_count": null,
      "outputs": [
        {
          "output_type": "stream",
          "name": "stdout",
          "text": [
            "Process is interrupted.\n"
          ]
        }
      ]
    },
    {
      "cell_type": "code",
      "source": [],
      "metadata": {
        "id": "a4XfxSlHCApW"
      },
      "execution_count": null,
      "outputs": []
    }
  ]
}